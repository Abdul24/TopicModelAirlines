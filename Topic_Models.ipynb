{
 "cells": [
  {
   "cell_type": "markdown",
   "metadata": {},
   "source": [
    "## Topic model "
   ]
  },
  {
   "cell_type": "markdown",
   "metadata": {},
   "source": [
    "### Twitter data for  Delta, Southwest, American, Jetblue Airlines "
   ]
  },
  {
   "cell_type": "markdown",
   "metadata": {},
   "source": [
    "#### Imports"
   ]
  },
  {
   "cell_type": "code",
   "execution_count": 103,
   "metadata": {},
   "outputs": [
    {
     "data": {
      "text/html": [
       "<style>.container { width:100% !important; }</style>"
      ],
      "text/plain": [
       "<IPython.core.display.HTML object>"
      ]
     },
     "metadata": {},
     "output_type": "display_data"
    }
   ],
   "source": [
    "# Importing modules\n",
    "import pandas as pd\n",
    "import os\n",
    "\n",
    "os.chdir('..')\n",
    "\n",
    "# Cobining airline tweet data \n",
    "from IPython.core.display import display, HTML\n",
    "display(HTML(\"<style>.container { width:100% !important; }</style>\"))\n",
    "\n",
    "#/Users/abdulaleemseyed/Desktop/DS_Projects/NLP"
   ]
  },
  {
   "cell_type": "markdown",
   "metadata": {},
   "source": [
    "#### Loading data"
   ]
  },
  {
   "cell_type": "code",
   "execution_count": 104,
   "metadata": {
    "collapsed": true
   },
   "outputs": [
    {
     "data": {
      "text/html": [
       "<div>\n",
       "<style scoped>\n",
       "    .dataframe tbody tr th:only-of-type {\n",
       "        vertical-align: middle;\n",
       "    }\n",
       "\n",
       "    .dataframe tbody tr th {\n",
       "        vertical-align: top;\n",
       "    }\n",
       "\n",
       "    .dataframe thead th {\n",
       "        text-align: right;\n",
       "    }\n",
       "</style>\n",
       "<table border=\"1\" class=\"dataframe\">\n",
       "  <thead>\n",
       "    <tr style=\"text-align: right;\">\n",
       "      <th></th>\n",
       "      <th>geo</th>\n",
       "      <th>text</th>\n",
       "      <th>user</th>\n",
       "      <th>location</th>\n",
       "      <th>country</th>\n",
       "      <th>entities</th>\n",
       "      <th>sentiment</th>\n",
       "      <th>neg</th>\n",
       "      <th>neu</th>\n",
       "      <th>pos</th>\n",
       "      <th>compound</th>\n",
       "      <th>Unnamed: 0</th>\n",
       "    </tr>\n",
       "  </thead>\n",
       "  <tbody>\n",
       "    <tr>\n",
       "      <td>0</td>\n",
       "      <td>NaN</td>\n",
       "      <td>The guide on #Delta Airlines #cancellationpolicy will help you to find the #Refund status on #tickets, risk-free…</td>\n",
       "      <td>flydealfare</td>\n",
       "      <td>United States</td>\n",
       "      <td>United States</td>\n",
       "      <td>['', ('Delta Airlines', 'ORG'), '', ('Refund', 'ORG'), '']</td>\n",
       "      <td>{'neg': 0.0, 'neu': 0.856, 'pos': 0.144, 'compound': 0.4019}</td>\n",
       "      <td>0.0</td>\n",
       "      <td>0.856</td>\n",
       "      <td>0.144</td>\n",
       "      <td>0.4019</td>\n",
       "      <td>NaN</td>\n",
       "    </tr>\n",
       "    <tr>\n",
       "      <td>1</td>\n",
       "      <td>NaN</td>\n",
       "      <td>Hand sanitizer readily available.#Airlines #AirlineBailout #deltaairlines #Delta #UnitedAirlines #AmericanAirlines #flying</td>\n",
       "      <td>greatisenough</td>\n",
       "      <td>Greensboro, NC</td>\n",
       "      <td>USA</td>\n",
       "      <td>['', '']</td>\n",
       "      <td>{'neg': 0.0, 'neu': 0.738, 'pos': 0.262, 'compound': 0.4939}</td>\n",
       "      <td>0.0</td>\n",
       "      <td>0.738</td>\n",
       "      <td>0.262</td>\n",
       "      <td>0.4939</td>\n",
       "      <td>NaN</td>\n",
       "    </tr>\n",
       "    <tr>\n",
       "      <td>2</td>\n",
       "      <td>NaN</td>\n",
       "      <td>#Delta has been flying five daily flights out of Love Field to Atlanta for years on a Southwest Airlines gate. …</td>\n",
       "      <td>AtlBizRetweet</td>\n",
       "      <td>United States</td>\n",
       "      <td>United States</td>\n",
       "      <td>['', ('Delta', 'ORG'), ('five', 'CARDINAL'), ('daily', 'DATE'), ('Love Field', 'GPE'), ('Atlanta', 'GPE'), ('years', 'DATE'), ('Southwest Airlines', 'ORG')]</td>\n",
       "      <td>{'neg': 0.0, 'neu': 0.811, 'pos': 0.189, 'compound': 0.6369}</td>\n",
       "      <td>0.0</td>\n",
       "      <td>0.811</td>\n",
       "      <td>0.189</td>\n",
       "      <td>0.6369</td>\n",
       "      <td>NaN</td>\n",
       "    </tr>\n",
       "    <tr>\n",
       "      <td>3</td>\n",
       "      <td>NaN</td>\n",
       "      <td>#Delta has been flying five daily flights out of Love Field to Atlanta for years on a Southwest Airlines gate.</td>\n",
       "      <td>AtlBizChron</td>\n",
       "      <td>Atlanta, Georgia</td>\n",
       "      <td>USA</td>\n",
       "      <td>[('Delta', 'ORG'), ('five', 'CARDINAL'), ('daily', 'DATE'), ('Love Field', 'GPE'), ('Atlanta', 'GPE'), ('years', 'DATE'), ('Southwest Airlines', 'ORG')]</td>\n",
       "      <td>{'neg': 0.0, 'neu': 0.811, 'pos': 0.189, 'compound': 0.6369}</td>\n",
       "      <td>0.0</td>\n",
       "      <td>0.811</td>\n",
       "      <td>0.189</td>\n",
       "      <td>0.6369</td>\n",
       "      <td>NaN</td>\n",
       "    </tr>\n",
       "    <tr>\n",
       "      <td>4</td>\n",
       "      <td>NaN</td>\n",
       "      <td>So the airline industry gets free money from the government without the government getting a stake in them, but the…</td>\n",
       "      <td>wallstreet92</td>\n",
       "      <td>Michigan</td>\n",
       "      <td>USA</td>\n",
       "      <td>[]</td>\n",
       "      <td>{'neg': 0.0, 'neu': 0.893, 'pos': 0.107, 'compound': 0.2846}</td>\n",
       "      <td>0.0</td>\n",
       "      <td>0.893</td>\n",
       "      <td>0.107</td>\n",
       "      <td>0.2846</td>\n",
       "      <td>NaN</td>\n",
       "    </tr>\n",
       "  </tbody>\n",
       "</table>\n",
       "</div>"
      ],
      "text/plain": [
       "   geo  \\\n",
       "0  NaN   \n",
       "1  NaN   \n",
       "2  NaN   \n",
       "3  NaN   \n",
       "4  NaN   \n",
       "\n",
       "                                                                                                                         text  \\\n",
       "0          The guide on #Delta Airlines #cancellationpolicy will help you to find the #Refund status on #tickets, risk-free…    \n",
       "1  Hand sanitizer readily available.#Airlines #AirlineBailout #deltaairlines #Delta #UnitedAirlines #AmericanAirlines #flying   \n",
       "2            #Delta has been flying five daily flights out of Love Field to Atlanta for years on a Southwest Airlines gate. …   \n",
       "3             #Delta has been flying five daily flights out of Love Field to Atlanta for years on a Southwest Airlines gate.    \n",
       "4       So the airline industry gets free money from the government without the government getting a stake in them, but the…    \n",
       "\n",
       "            user          location        country  \\\n",
       "0    flydealfare     United States  United States   \n",
       "1  greatisenough    Greensboro, NC            USA   \n",
       "2  AtlBizRetweet     United States  United States   \n",
       "3    AtlBizChron  Atlanta, Georgia            USA   \n",
       "4   wallstreet92          Michigan            USA   \n",
       "\n",
       "                                                                                                                                                       entities  \\\n",
       "0                                                                                                    ['', ('Delta Airlines', 'ORG'), '', ('Refund', 'ORG'), '']   \n",
       "1                                                                                                                                                      ['', '']   \n",
       "2  ['', ('Delta', 'ORG'), ('five', 'CARDINAL'), ('daily', 'DATE'), ('Love Field', 'GPE'), ('Atlanta', 'GPE'), ('years', 'DATE'), ('Southwest Airlines', 'ORG')]   \n",
       "3      [('Delta', 'ORG'), ('five', 'CARDINAL'), ('daily', 'DATE'), ('Love Field', 'GPE'), ('Atlanta', 'GPE'), ('years', 'DATE'), ('Southwest Airlines', 'ORG')]   \n",
       "4                                                                                                                                                            []   \n",
       "\n",
       "                                                      sentiment  neg    neu  \\\n",
       "0  {'neg': 0.0, 'neu': 0.856, 'pos': 0.144, 'compound': 0.4019}  0.0  0.856   \n",
       "1  {'neg': 0.0, 'neu': 0.738, 'pos': 0.262, 'compound': 0.4939}  0.0  0.738   \n",
       "2  {'neg': 0.0, 'neu': 0.811, 'pos': 0.189, 'compound': 0.6369}  0.0  0.811   \n",
       "3  {'neg': 0.0, 'neu': 0.811, 'pos': 0.189, 'compound': 0.6369}  0.0  0.811   \n",
       "4  {'neg': 0.0, 'neu': 0.893, 'pos': 0.107, 'compound': 0.2846}  0.0  0.893   \n",
       "\n",
       "     pos  compound  Unnamed: 0  \n",
       "0  0.144    0.4019         NaN  \n",
       "1  0.262    0.4939         NaN  \n",
       "2  0.189    0.6369         NaN  \n",
       "3  0.189    0.6369         NaN  \n",
       "4  0.107    0.2846         NaN  "
      ]
     },
     "execution_count": 104,
     "metadata": {},
     "output_type": "execute_result"
    }
   ],
   "source": [
    "# Cobining airline twitter tweet data\n",
    "\n",
    "Delta = pd.read_csv(DeltaAirlines_tweets.csv\")\n",
    "Southwest = pd.read_csv(\"SouthWest_tweets.csv\")\n",
    "American = pd.read_csv(\"AmericanAirlines_tweets.csv\")\n",
    "Jetblue = pd.read_csv(\"NLP/JetBlue_tweets.csv\")\n",
    "\n",
    "airtweets = pd.concat([Delta, Southwest, American, Jetblue], sort=False)\n",
    "#aritweets = pd.drop\n",
    "airtweets.head(5)"
   ]
  },
  {
   "cell_type": "markdown",
   "metadata": {},
   "source": [
    "#### Data Cleaning "
   ]
  },
  {
   "cell_type": "code",
   "execution_count": 67,
   "metadata": {},
   "outputs": [],
   "source": [
    "airtweets = airtweets['text']"
   ]
  },
  {
   "cell_type": "code",
   "execution_count": 69,
   "metadata": {},
   "outputs": [
    {
     "data": {
      "text/plain": [
       "0            The guide on #Delta Airlines #cancellationpolicy will help you to find the #Refund status on #tickets, risk-free… \n",
       "1    Hand sanitizer readily available.#Airlines #AirlineBailout #deltaairlines #Delta #UnitedAirlines #AmericanAirlines #flying\n",
       "2              #Delta has been flying five daily flights out of Love Field to Atlanta for years on a Southwest Airlines gate. …\n",
       "3               #Delta has been flying five daily flights out of Love Field to Atlanta for years on a Southwest Airlines gate. \n",
       "4         So the airline industry gets free money from the government without the government getting a stake in them, but the… \n",
       "Name: text, dtype: object"
      ]
     },
     "execution_count": 69,
     "metadata": {},
     "output_type": "execute_result"
    }
   ],
   "source": [
    "# Load the regular expression library\n",
    "import re\n",
    "airtweets.head()"
   ]
  },
  {
   "cell_type": "code",
   "execution_count": 73,
   "metadata": {},
   "outputs": [
    {
     "data": {
      "text/plain": [
       "(1261,)"
      ]
     },
     "execution_count": 73,
     "metadata": {},
     "output_type": "execute_result"
    }
   ],
   "source": [
    "# Load the regular expression library\n",
    "import re\n",
    "\n",
    "# Convert the titles to lowercase"
   ]
  },
  {
   "cell_type": "markdown",
   "metadata": {},
   "source": [
    "#### Tokenize words and further clean-up text"
   ]
  },
  {
   "cell_type": "code",
   "execution_count": 75,
   "metadata": {},
   "outputs": [
    {
     "name": "stdout",
     "output_type": "stream",
     "text": [
      "['the', 'guide', 'on', 'delta', 'airlines', 'will', 'help', 'you', 'to', 'find', 'the', 'refund', 'status', 'on', 'tickets', 'risk', 'free']\n"
     ]
    }
   ],
   "source": [
    "import gensim\n",
    "from gensim.utils import simple_preprocess\n",
    "\n",
    "def sent_to_words(sentences):\n",
    "    for sentence in sentences:\n",
    "        yield(gensim.utils.simple_preprocess(str(sentence), deacc=True))  # deacc=True removes punctuations\n",
    "\n",
    "data = airtweets.values.tolist()\n",
    "data_words = list(sent_to_words(data))\n",
    "\n",
    "print(data_words[:1][0][:30])"
   ]
  },
  {
   "cell_type": "markdown",
   "metadata": {},
   "source": [
    "#### Creating Bigram and Trigram Models"
   ]
  },
  {
   "cell_type": "code",
   "execution_count": 76,
   "metadata": {},
   "outputs": [],
   "source": [
    "# Build the bigram and trigram models\n",
    "bigram = gensim.models.Phrases(data_words, min_count=5, threshold=100) # higher threshold fewer phrases.\n",
    "trigram = gensim.models.Phrases(bigram[data_words], threshold=100)  \n",
    "\n",
    "# Faster way to get a sentence clubbed as a trigram/bigram\n",
    "bigram_mod = gensim.models.phrases.Phraser(bigram)\n",
    "trigram_mod = gensim.models.phrases.Phraser(trigram)"
   ]
  },
  {
   "cell_type": "markdown",
   "metadata": {},
   "source": [
    "#### Remove Stopwords, Make Bigrams and Lemmatize"
   ]
  },
  {
   "cell_type": "code",
   "execution_count": 77,
   "metadata": {},
   "outputs": [
    {
     "name": "stderr",
     "output_type": "stream",
     "text": [
      "[nltk_data] Downloading package stopwords to\n",
      "[nltk_data]     /Users/abdulaleemseyed/nltk_data...\n",
      "[nltk_data]   Unzipping corpora/stopwords.zip.\n"
     ]
    }
   ],
   "source": [
    "import nltk\n",
    "nltk.download('stopwords')\n",
    "from nltk.corpus import stopwords\n",
    "\n",
    "stop_words = stopwords.words('english')\n",
    "stop_words.extend(['from', 'subject', 're', 'edu', 'use'])"
   ]
  },
  {
   "cell_type": "code",
   "execution_count": 78,
   "metadata": {},
   "outputs": [],
   "source": [
    "# Define functions for stopwords, bigrams, trigrams and lemmatization\n",
    "def remove_stopwords(texts):\n",
    "    return [[word for word in simple_preprocess(str(doc)) if word not in stop_words] for doc in texts]\n",
    "\n",
    "def make_bigrams(texts):\n",
    "    return [bigram_mod[doc] for doc in texts]\n",
    "\n",
    "def make_trigrams(texts):\n",
    "    return [trigram_mod[bigram_mod[doc]] for doc in texts]\n",
    "\n",
    "def lemmatization(texts, allowed_postags=['NOUN', 'ADJ', 'VERB', 'ADV']):\n",
    "    \"\"\"https://spacy.io/api/annotation\"\"\"\n",
    "    texts_out = []\n",
    "    for sent in texts:\n",
    "        doc = nlp(\" \".join(sent)) \n",
    "        texts_out.append([token.lemma_ for token in doc if token.pos_ in allowed_postags])\n",
    "    return texts_out"
   ]
  },
  {
   "cell_type": "code",
   "execution_count": 79,
   "metadata": {},
   "outputs": [
    {
     "name": "stdout",
     "output_type": "stream",
     "text": [
      "['guide', 'delta', 'airline', 'help', 'find', 'refund', 'status', 'ticket', 'risk', 'free']\n"
     ]
    }
   ],
   "source": [
    "import spacy\n",
    "\n",
    "# Remove Stop Words\n",
    "data_words_nostops = remove_stopwords(data_words)\n",
    "\n",
    "# Form Bigrams\n",
    "data_words_bigrams = make_bigrams(data_words_nostops)\n",
    "\n",
    "# Initialize spacy 'en' model, keeping only tagger component (for efficiency)\n",
    "nlp = spacy.load(\"en_core_web_sm\", disable=['parser', 'ner'])\n",
    "\n",
    "# Do lemmatization keeping only noun, adj, vb, adv\n",
    "data_lemmatized = lemmatization(data_words_bigrams, allowed_postags=['NOUN', 'ADJ', 'VERB', 'ADV'])\n",
    "\n",
    "print(data_lemmatized[:1][0][:30])"
   ]
  },
  {
   "cell_type": "markdown",
   "metadata": {},
   "source": [
    "#### Data transformation: Corpus and Dictionary\n",
    "The two main inputs to the LDA topic model are the dictionary(id2word) and the corpus. Let’s create them."
   ]
  },
  {
   "cell_type": "code",
   "execution_count": 80,
   "metadata": {},
   "outputs": [
    {
     "name": "stdout",
     "output_type": "stream",
     "text": [
      "[(0, 1), (1, 1), (2, 1), (3, 1), (4, 1), (5, 1), (6, 1), (7, 1), (8, 1), (9, 1)]\n"
     ]
    }
   ],
   "source": [
    "import gensim.corpora as corpora\n",
    "\n",
    "# Create Dictionary\n",
    "id2word = corpora.Dictionary(data_lemmatized)\n",
    "\n",
    "# Create Corpus\n",
    "texts = data_lemmatized\n",
    "\n",
    "# Term Document Frequency\n",
    "corpus = [id2word.doc2bow(text) for text in texts]\n",
    "\n",
    "# View\n",
    "print(corpus[:1][0][:30])"
   ]
  },
  {
   "cell_type": "markdown",
   "metadata": {},
   "source": [
    "#### Hyperparameter tuning"
   ]
  },
  {
   "cell_type": "code",
   "execution_count": 86,
   "metadata": {},
   "outputs": [],
   "source": [
    "# supporting function\n",
    "def compute_coherence_values(corpus, dictionary, k, a, b):\n",
    "    \n",
    "    lda_model = gensim.models.LdaMulticore(corpus=corpus,\n",
    "                                           id2word=dictionary,\n",
    "                                           num_topics=k, \n",
    "                                           random_state=100,\n",
    "                                           chunksize=100,\n",
    "                                           passes=10,\n",
    "                                           alpha=a,\n",
    "                                           eta=b)\n",
    "    \n",
    "    coherence_model_lda = CoherenceModel(model=lda_model, texts=data_lemmatized, dictionary=id2word, coherence='c_v')\n",
    "    \n",
    "    return coherence_model_lda.get_coherence()"
   ]
  },
  {
   "cell_type": "markdown",
   "metadata": {},
   "source": [
    "#### Let's call the function, and iterate it over the range of topics, alpha, and beta parameter values"
   ]
  },
  {
   "cell_type": "code",
   "execution_count": 84,
   "metadata": {},
   "outputs": [
    {
     "name": "stderr",
     "output_type": "stream",
     "text": [
      "\n",
      "  0%|          | 0/270 [00:00<?, ?it/s]\u001b[A"
     ]
    },
    {
     "ename": "NameError",
     "evalue": "name 'CoherenceModel' is not defined",
     "output_type": "error",
     "traceback": [
      "\u001b[0;31m---------------------------------------------------------------------------\u001b[0m",
      "\u001b[0;31mNameError\u001b[0m                                 Traceback (most recent call last)",
      "\u001b[0;32m<ipython-input-84-29ce23a926da>\u001b[0m in \u001b[0;36m<module>\u001b[0;34m\u001b[0m\n\u001b[1;32m     51\u001b[0m                     \u001b[0;31m# get the coherence score for the given parameters\u001b[0m\u001b[0;34m\u001b[0m\u001b[0;34m\u001b[0m\u001b[0;34m\u001b[0m\u001b[0m\n\u001b[1;32m     52\u001b[0m                     cv = compute_coherence_values(corpus=corpus_sets[i], dictionary=id2word, \n\u001b[0;32m---> 53\u001b[0;31m                                                   k=k, a=a, b=b)\n\u001b[0m\u001b[1;32m     54\u001b[0m                     \u001b[0;31m# Save the model results\u001b[0m\u001b[0;34m\u001b[0m\u001b[0;34m\u001b[0m\u001b[0;34m\u001b[0m\u001b[0m\n\u001b[1;32m     55\u001b[0m                     \u001b[0mmodel_results\u001b[0m\u001b[0;34m[\u001b[0m\u001b[0;34m'Validation_Set'\u001b[0m\u001b[0;34m]\u001b[0m\u001b[0;34m.\u001b[0m\u001b[0mappend\u001b[0m\u001b[0;34m(\u001b[0m\u001b[0mcorpus_title\u001b[0m\u001b[0;34m[\u001b[0m\u001b[0mi\u001b[0m\u001b[0;34m]\u001b[0m\u001b[0;34m)\u001b[0m\u001b[0;34m\u001b[0m\u001b[0;34m\u001b[0m\u001b[0m\n",
      "\u001b[0;32m<ipython-input-83-ad0dd2c2e33b>\u001b[0m in \u001b[0;36mcompute_coherence_values\u001b[0;34m(corpus, dictionary, k, a, b)\u001b[0m\n\u001b[1;32m     11\u001b[0m                                            eta=b)\n\u001b[1;32m     12\u001b[0m \u001b[0;34m\u001b[0m\u001b[0m\n\u001b[0;32m---> 13\u001b[0;31m     \u001b[0mcoherence_model_lda\u001b[0m \u001b[0;34m=\u001b[0m \u001b[0mCoherenceModel\u001b[0m\u001b[0;34m(\u001b[0m\u001b[0mmodel\u001b[0m\u001b[0;34m=\u001b[0m\u001b[0mlda_model\u001b[0m\u001b[0;34m,\u001b[0m \u001b[0mtexts\u001b[0m\u001b[0;34m=\u001b[0m\u001b[0mdata_lemmatized\u001b[0m\u001b[0;34m,\u001b[0m \u001b[0mdictionary\u001b[0m\u001b[0;34m=\u001b[0m\u001b[0mid2word\u001b[0m\u001b[0;34m,\u001b[0m \u001b[0mcoherence\u001b[0m\u001b[0;34m=\u001b[0m\u001b[0;34m'c_v'\u001b[0m\u001b[0;34m)\u001b[0m\u001b[0;34m\u001b[0m\u001b[0;34m\u001b[0m\u001b[0m\n\u001b[0m\u001b[1;32m     14\u001b[0m \u001b[0;34m\u001b[0m\u001b[0m\n\u001b[1;32m     15\u001b[0m     \u001b[0;32mreturn\u001b[0m \u001b[0mcoherence_model_lda\u001b[0m\u001b[0;34m.\u001b[0m\u001b[0mget_coherence\u001b[0m\u001b[0;34m(\u001b[0m\u001b[0;34m)\u001b[0m\u001b[0;34m\u001b[0m\u001b[0;34m\u001b[0m\u001b[0m\n",
      "\u001b[0;31mNameError\u001b[0m: name 'CoherenceModel' is not defined"
     ]
    }
   ],
   "source": [
    "import numpy as np\n",
    "import tqdm\n",
    "\n",
    "grid = {}\n",
    "grid['Validation_Set'] = {}\n",
    "\n",
    "# Topics range\n",
    "min_topics = 2\n",
    "max_topics = 11\n",
    "step_size = 1\n",
    "topics_range = range(min_topics, max_topics, step_size)\n",
    "\n",
    "# Alpha parameter\n",
    "alpha = list(np.arange(0.01, 1, 0.3))\n",
    "alpha.append('symmetric')\n",
    "alpha.append('asymmetric')\n",
    "\n",
    "# Beta parameter\n",
    "beta = list(np.arange(0.01, 1, 0.3))\n",
    "beta.append('symmetric')\n",
    "\n",
    "# Validation sets\n",
    "num_of_docs = len(corpus)\n",
    "corpus_sets = [# gensim.utils.ClippedCorpus(corpus, num_of_docs*0.25), \n",
    "               # gensim.utils.ClippedCorpus(corpus, num_of_docs*0.5), \n",
    "               # gensim.utils.ClippedCorpus(corpus, num_of_docs*0.75), \n",
    "               corpus]\n",
    "\n",
    "corpus_title = ['100% Corpus']\n",
    "\n",
    "model_results = {'Validation_Set': [],\n",
    "                 'Topics': [],\n",
    "                 'Alpha': [],\n",
    "                 'Beta': [],\n",
    "                 'Coherence': []\n",
    "                }\n",
    "\n",
    "\n",
    "# Can take a long time to run\n",
    "if 1 == 1:\n",
    "    pbar = tqdm.tqdm(total=(len(beta)*len(alpha)*len(topics_range)*len(corpus_title)))\n",
    "    \n",
    "    # iterate through validation corpuses\n",
    "    for i in range(len(corpus_sets)):\n",
    "        # iterate through number of topics\n",
    "        for k in topics_range:\n",
    "            # iterate through alpha values\n",
    "            for a in alpha:\n",
    "                # iterare through beta values\n",
    "                for b in beta:\n",
    "                    # get the coherence score for the given parameters\n",
    "                    cv = compute_coherence_values(corpus=corpus_sets[i], dictionary=id2word, \n",
    "                                                  k=k, a=a, b=b)\n",
    "                    # Save the model results\n",
    "                    model_results['Validation_Set'].append(corpus_title[i])\n",
    "                    model_results['Topics'].append(k)\n",
    "                    model_results['Alpha'].append(a)\n",
    "                    model_results['Beta'].append(b)\n",
    "                    model_results['Coherence'].append(cv)\n",
    "                    \n",
    "                    pbar.update(1)\n",
    "    pd.DataFrame(model_results).to_csv('lda_tuning_results.csv', index=False)\n",
    "    pbar.close()"
   ]
  },
  {
   "cell_type": "code",
   "execution_count": 99,
   "metadata": {},
   "outputs": [],
   "source": [
    "lda_model = gensim.models.LdaMulticore(corpus=corpus,\n",
    "                                           id2word=id2word,\n",
    "                                           num_topics=6, \n",
    "                                           random_state=100,\n",
    "                                           chunksize=100,\n",
    "                                           passes=10,\n",
    "                                           alpha=0.01,\n",
    "                                           eta=0.9)"
   ]
  },
  {
   "cell_type": "code",
   "execution_count": 100,
   "metadata": {},
   "outputs": [
    {
     "name": "stdout",
     "output_type": "stream",
     "text": [
      "[(0,\n",
      "  '0.030*\"flight\" + 0.014*\"jetblue\" + 0.010*\"airline\" + 0.010*\"american\" + '\n",
      "  '0.008*\"call\" + 0.008*\"attendant\" + 0.007*\"male\" + 0.007*\"proceed\" + '\n",
      "  '0.007*\"bl\" + 0.007*\"calls_black\"'),\n",
      " (1,\n",
      "  '0.039*\"choo\" + 0.031*\"delta\" + 0.030*\"airline\" + 0.022*\"state\" + '\n",
      "  '0.022*\"southwest\" + 0.020*\"cost\" + 0.020*\"california\" + 0.020*\"speed\" + '\n",
      "  '0.020*\"could_purchase\" + 0.008*\"go\"'),\n",
      " (2,\n",
      "  '0.054*\"airline\" + 0.049*\"free\" + 0.048*\"cash\" + 0.048*\"spend\" + 0.048*\"buy\" '\n",
      "  '+ 0.047*\"last\" + 0.047*\"group\" + 0.047*\"big\" + 0.047*\"share\" + '\n",
      "  '0.046*\"flow\"'),\n",
      " (3,\n",
      "  '0.017*\"airline\" + 0.015*\"delta\" + 0.012*\"get\" + 0.007*\"be\" + '\n",
      "  '0.006*\"buffett\" + 0.006*\"expert\" + 0.006*\"bailoutsall_know\" + 0.006*\"ba\" + '\n",
      "  '0.005*\"jetblue\" + 0.004*\"united\"'),\n",
      " (4,\n",
      "  '0.022*\"flight\" + 0.013*\"hour\" + 0.013*\"bailout\" + 0.012*\"airline\" + '\n",
      "  '0.012*\"refund\" + 0.011*\"part\" + 0.011*\"jfk_awaite\" + 0.011*\"delayed_austin\" '\n",
      "  '+ 0.011*\"understandable\" + 0.011*\"journey_home\"'),\n",
      " (5,\n",
      "  '0.041*\"airline\" + 0.027*\"american\" + 0.021*\"jetblue\" + 0.019*\"flight\" + '\n",
      "  '0.012*\"covid\" + 0.010*\"travel\" + 0.009*\"due\" + 0.008*\"amp\" + 0.008*\"man\" + '\n",
      "  '0.007*\"word\"')]\n"
     ]
    }
   ],
   "source": [
    "from pprint import pprint\n",
    "\n",
    "# Print the Keyword in the 10 topics\n",
    "pprint(lda_model.print_topics())\n",
    "doc_lda = lda_model[corpus]"
   ]
  },
  {
   "cell_type": "code",
   "execution_count": 101,
   "metadata": {},
   "outputs": [
    {
     "name": "stderr",
     "output_type": "stream",
     "text": [
      "/Users/abdulaleemseyed/anaconda3/lib/python3.7/site-packages/pyLDAvis/_prepare.py:257: FutureWarning: Sorting because non-concatenation axis is not aligned. A future version\n",
      "of pandas will change to not sort by default.\n",
      "\n",
      "To accept the future behavior, pass 'sort=False'.\n",
      "\n",
      "To retain the current behavior and silence the warning, pass 'sort=True'.\n",
      "\n",
      "  return pd.concat([default_term_info] + list(topic_dfs))\n"
     ]
    },
    {
     "data": {
      "text/html": [
       "\n",
       "<link rel=\"stylesheet\" type=\"text/css\" href=\"https://cdn.rawgit.com/bmabey/pyLDAvis/files/ldavis.v1.0.0.css\">\n",
       "\n",
       "\n",
       "<div id=\"ldavis_el7936949811813921390984037\"></div>\n",
       "<script type=\"text/javascript\">\n",
       "\n",
       "var ldavis_el7936949811813921390984037_data = {\"mdsDat\": {\"x\": [0.22133100746851653, -0.03845275876679436, -0.0665051950156414, -0.039226027853718856, -0.04136501206827238, -0.035782013764089494], \"y\": [-0.004989477948304608, -0.041557944764105785, -0.04474230576078104, 0.10630638707600808, -0.0292609441856324, 0.01424428558281566], \"topics\": [1, 2, 3, 4, 5, 6], \"cluster\": [1, 1, 1, 1, 1, 1], \"Freq\": [24.815139770507812, 22.619327545166016, 16.632953643798828, 14.364415168762207, 12.137823104858398, 9.430339813232422]}, \"tinfo\": {\"Category\": [\"Default\", \"Default\", \"Default\", \"Default\", \"Default\", \"Default\", \"Default\", \"Default\", \"Default\", \"Default\", \"Default\", \"Default\", \"Default\", \"Default\", \"Default\", \"Default\", \"Default\", \"Default\", \"Default\", \"Default\", \"Default\", \"Default\", \"Default\", \"Default\", \"Default\", \"Default\", \"Default\", \"Default\", \"Default\", \"Default\", \"Topic1\", \"Topic1\", \"Topic1\", \"Topic1\", \"Topic1\", \"Topic1\", \"Topic1\", \"Topic1\", \"Topic1\", \"Topic1\", \"Topic1\", \"Topic1\", \"Topic1\", \"Topic1\", \"Topic1\", \"Topic1\", \"Topic1\", \"Topic1\", \"Topic1\", \"Topic1\", \"Topic1\", \"Topic1\", \"Topic1\", \"Topic1\", \"Topic1\", \"Topic1\", \"Topic1\", \"Topic1\", \"Topic1\", \"Topic1\", \"Topic1\", \"Topic1\", \"Topic1\", \"Topic1\", \"Topic1\", \"Topic1\", \"Topic1\", \"Topic1\", \"Topic1\", \"Topic1\", \"Topic1\", \"Topic1\", \"Topic1\", \"Topic2\", \"Topic2\", \"Topic2\", \"Topic2\", \"Topic2\", \"Topic2\", \"Topic2\", \"Topic2\", \"Topic2\", \"Topic2\", \"Topic2\", \"Topic2\", \"Topic2\", \"Topic2\", \"Topic2\", \"Topic2\", \"Topic2\", \"Topic2\", \"Topic2\", \"Topic2\", \"Topic2\", \"Topic2\", \"Topic2\", \"Topic2\", \"Topic2\", \"Topic2\", \"Topic2\", \"Topic2\", \"Topic2\", \"Topic2\", \"Topic2\", \"Topic2\", \"Topic2\", \"Topic2\", \"Topic2\", \"Topic2\", \"Topic2\", \"Topic2\", \"Topic2\", \"Topic2\", \"Topic2\", \"Topic2\", \"Topic2\", \"Topic2\", \"Topic2\", \"Topic2\", \"Topic2\", \"Topic2\", \"Topic2\", \"Topic2\", \"Topic3\", \"Topic3\", \"Topic3\", \"Topic3\", \"Topic3\", \"Topic3\", \"Topic3\", \"Topic3\", \"Topic3\", \"Topic3\", \"Topic3\", \"Topic3\", \"Topic3\", \"Topic3\", \"Topic3\", \"Topic3\", \"Topic3\", \"Topic3\", \"Topic3\", \"Topic3\", \"Topic3\", \"Topic3\", \"Topic3\", \"Topic3\", \"Topic3\", \"Topic3\", \"Topic3\", \"Topic3\", \"Topic3\", \"Topic3\", \"Topic3\", \"Topic3\", \"Topic3\", \"Topic3\", \"Topic3\", \"Topic3\", \"Topic3\", \"Topic3\", \"Topic3\", \"Topic3\", \"Topic3\", \"Topic3\", \"Topic3\", \"Topic3\", \"Topic3\", \"Topic3\", \"Topic4\", \"Topic4\", \"Topic4\", \"Topic4\", \"Topic4\", \"Topic4\", \"Topic4\", \"Topic4\", \"Topic4\", \"Topic4\", \"Topic4\", \"Topic4\", \"Topic4\", \"Topic4\", \"Topic4\", \"Topic4\", \"Topic4\", \"Topic4\", \"Topic4\", \"Topic4\", \"Topic4\", \"Topic4\", \"Topic4\", \"Topic4\", \"Topic4\", \"Topic4\", \"Topic4\", \"Topic4\", \"Topic4\", \"Topic4\", \"Topic4\", \"Topic4\", \"Topic4\", \"Topic4\", \"Topic4\", \"Topic4\", \"Topic4\", \"Topic4\", \"Topic4\", \"Topic4\", \"Topic4\", \"Topic4\", \"Topic4\", \"Topic4\", \"Topic4\", \"Topic4\", \"Topic4\", \"Topic4\", \"Topic4\", \"Topic4\", \"Topic5\", \"Topic5\", \"Topic5\", \"Topic5\", \"Topic5\", \"Topic5\", \"Topic5\", \"Topic5\", \"Topic5\", \"Topic5\", \"Topic5\", \"Topic5\", \"Topic5\", \"Topic5\", \"Topic5\", \"Topic5\", \"Topic5\", \"Topic5\", \"Topic5\", \"Topic5\", \"Topic5\", \"Topic5\", \"Topic5\", \"Topic5\", \"Topic5\", \"Topic5\", \"Topic5\", \"Topic5\", \"Topic5\", \"Topic5\", \"Topic5\", \"Topic5\", \"Topic5\", \"Topic5\", \"Topic5\", \"Topic5\", \"Topic5\", \"Topic5\", \"Topic5\", \"Topic5\", \"Topic5\", \"Topic5\", \"Topic5\", \"Topic5\", \"Topic5\", \"Topic5\", \"Topic6\", \"Topic6\", \"Topic6\", \"Topic6\", \"Topic6\", \"Topic6\", \"Topic6\", \"Topic6\", \"Topic6\", \"Topic6\", \"Topic6\", \"Topic6\", \"Topic6\", \"Topic6\", \"Topic6\", \"Topic6\", \"Topic6\", \"Topic6\", \"Topic6\", \"Topic6\", \"Topic6\", \"Topic6\", \"Topic6\", \"Topic6\", \"Topic6\", \"Topic6\", \"Topic6\", \"Topic6\", \"Topic6\", \"Topic6\", \"Topic6\", \"Topic6\", \"Topic6\", \"Topic6\", \"Topic6\", \"Topic6\", \"Topic6\", \"Topic6\", \"Topic6\", \"Topic6\", \"Topic6\", \"Topic6\", \"Topic6\", \"Topic6\", \"Topic6\", \"Topic6\", \"Topic6\", \"Topic6\", \"Topic6\", \"Topic6\", \"Topic6\", \"Topic6\", \"Topic6\", \"Topic6\", \"Topic6\", \"Topic6\", \"Topic6\"], \"Freq\": [135.0, 136.0, 132.0, 130.0, 129.0, 128.0, 142.0, 136.0, 134.0, 139.0, 64.0, 135.0, 85.0, 43.0, 34.0, 33.0, 33.0, 37.0, 47.0, 90.0, 100.0, 39.0, 28.0, 22.0, 22.0, 22.0, 22.0, 22.0, 22.0, 36.0, 126.84754180908203, 126.40251159667969, 128.3935089111328, 129.47540283203125, 133.30064392089844, 133.13441467285156, 131.1932830810547, 128.823974609375, 133.6405029296875, 130.19947814941406, 12.41036319732666, 11.696890830993652, 11.696887016296387, 11.977046012878418, 9.01823616027832, 16.43218421936035, 4.094576358795166, 3.360414505004883, 3.360414505004883, 3.360414505004883, 3.36041522026062, 3.3604140281677246, 3.360060691833496, 3.355963706970215, 3.1998674869537354, 3.199866771697998, 5.4743571281433105, 2.650686025619507, 3.36041522026062, 4.767977714538574, 147.14881896972656, 12.854034423828125, 9.533478736877441, 6.200605869293213, 3.910445213317871, 4.639165878295898, 4.100058555603027, 4.420767307281494, 7.218360900878906, 3.8649206161499023, 4.41231107711792, 5.385749340057373, 4.1131672859191895, 18.93545913696289, 17.990875244140625, 17.990880966186523, 17.990882873535156, 17.99087905883789, 17.99088478088379, 10.307243347167969, 9.833139419555664, 9.833137512207031, 31.05447006225586, 10.63184642791748, 6.89683723449707, 17.359560012817383, 21.732648849487305, 4.805733680725098, 67.67454528808594, 4.5209856033325195, 4.3292388916015625, 4.329238414764404, 4.329237937927246, 4.236324310302734, 4.118690490722656, 5.667690753936768, 3.9486448764801025, 3.948646306991577, 5.875638484954834, 3.644747018814087, 3.642305612564087, 4.138822555541992, 5.190663814544678, 52.75680923461914, 25.180204391479492, 18.080528259277344, 16.94562530517578, 10.40845775604248, 6.674264430999756, 20.742164611816406, 9.800500869750977, 102.35124206542969, 47.405941009521484, 8.536087036132812, 15.949585914611816, 7.394585609436035, 11.404605865478516, 8.795623779296875, 9.625144004821777, 8.007692337036133, 9.096077919006348, 10.196242332458496, 9.090662956237793, 20.328292846679688, 20.169448852539062, 20.169448852539062, 20.169450759887695, 20.169448852539062, 20.169443130493164, 14.018442153930664, 14.018447875976562, 14.018447875976562, 12.918137550354004, 12.918132781982422, 23.219127655029297, 17.582725524902344, 17.593027114868164, 6.601115703582764, 23.103485107421875, 7.609155178070068, 3.724996566772461, 3.7249956130981445, 3.724997043609619, 3.724997043609619, 4.426686763763428, 3.462618350982666, 3.024977922439575, 3.6302192211151123, 3.4293854236602783, 3.5562939643859863, 2.825456142425537, 2.825455904006958, 5.151965618133545, 13.975261688232422, 21.699464797973633, 9.236288070678711, 4.32086181640625, 4.88385009765625, 13.478314399719238, 39.761478424072266, 6.015030860900879, 9.684067726135254, 6.425574779510498, 4.725302696228027, 9.486391067504883, 9.364192962646484, 22.433513641357422, 8.320846557617188, 5.612088680267334, 62.226356506347656, 31.34945297241211, 31.34925651550293, 31.919689178466797, 31.758710861206055, 35.527259826660156, 8.397140502929688, 8.397141456604004, 8.397143363952637, 8.397143363952637, 34.672882080078125, 3.1839420795440674, 48.683021545410156, 13.412046432495117, 8.491283416748047, 4.818021774291992, 2.561790943145752, 2.435272455215454, 3.2912437915802, 2.734302520751953, 2.144148349761963, 2.144148349761963, 2.144148349761963, 2.1441471576690674, 2.1441473960876465, 2.1057658195495605, 1.962702989578247, 2.553633689880371, 1.9577652215957642, 2.214625358581543, 2.7885143756866455, 3.1217000484466553, 3.6302411556243896, 2.8651628494262695, 47.54762268066406, 5.281881332397461, 4.762510776519775, 3.9100263118743896, 4.117587566375732, 4.668397903442383, 4.438475131988525, 3.271238327026367, 4.160459041595459, 3.476767063140869, 3.5680339336395264, 3.8932764530181885, 4.393359184265137, 4.062036514282227, 3.714744806289673, 3.8923544883728027, 9.397176742553711, 9.03464126586914, 9.034448623657227, 9.034445762634277, 9.034208297729492, 6.722507953643799, 6.3089399337768555, 6.308938503265381, 6.308938026428223, 6.30893087387085, 10.523137092590332, 5.013726234436035, 5.150003433227539, 6.3148698806762695, 3.3035266399383545, 3.30352783203125, 3.303525686264038, 3.2990291118621826, 4.429131031036377, 4.1866583824157715, 2.707594633102417, 2.704576253890991, 2.6339828968048096, 2.6339833736419678, 2.990788459777832, 2.5735585689544678, 2.710317373275757, 3.441682815551758, 2.9973413944244385, 10.300232887268066, 40.274742126464844, 19.233821868896484, 9.03439712524414, 6.67423677444458, 4.846199035644531, 6.087371349334717, 8.137149810791016, 4.512613773345947, 12.94060230255127, 8.140387535095215, 6.579970359802246, 13.044812202453613, 6.102146148681641, 5.989071846008301, 4.909273624420166, 4.566217422485352, 6.558372974395752, 6.5583672523498535, 6.558371543884277, 6.8099894523620605, 6.236685276031494, 2.3294317722320557, 2.329429864883423, 2.329429864883423, 2.325453519821167, 2.6009867191314697, 1.7283895015716553, 1.6763805150985718, 1.676379919052124, 2.4352304935455322, 1.7877094745635986, 2.504741907119751, 2.166841745376587, 1.4054707288742065, 1.4054701328277588, 1.4027540683746338, 1.4027540683746338, 1.4027540683746338, 1.4027540683746338, 1.4027540683746338, 2.44321870803833, 2.1939754486083984, 1.850326418876648, 1.345878005027771, 1.34587824344635, 1.3458778858184814, 2.3294308185577393, 1.5382112264633179, 1.5377274751663208, 4.059237480163574, 12.208864212036133, 2.6485867500305176, 2.355691432952881, 15.957064628601074, 1.677463173866272, 2.6366753578186035, 1.6901049613952637, 3.498002052307129, 3.5003087520599365, 17.33846092224121, 2.42189621925354, 5.641038417816162, 2.5948777198791504, 2.7075934410095215, 2.4623708724975586, 3.338869333267212, 2.863145589828491, 2.7856132984161377, 3.2501556873321533, 2.7274856567382812, 2.4837141036987305, 2.3850455284118652, 2.3721349239349365], \"Term\": [\"spend\", \"cash\", \"group\", \"share\", \"flow\", \"decade\", \"free\", \"buy\", \"big\", \"last\", \"choo\", \"flight\", \"delta\", \"state\", \"cost\", \"speed\", \"could_purchase\", \"california\", \"southwest\", \"jetblue\", \"american\", \"covid\", \"hour\", \"part\", \"journey_home\", \"understandable\", \"jfk_awaite\", \"delayed_austin\", \"south_africa\", \"bailout\", \"flow\", \"decade\", \"share\", \"group\", \"cash\", \"spend\", \"buy\", \"big\", \"free\", \"last\", \"rule\", \"pet\", \"seating_arrangement\", \"inflight_service\", \"eye\", \"keep\", \"coronaviru\", \"thomas\", \"tcva\", \"cook\", \"hybrid\", \"monarch\", \"landing\", \"blueprint\", \"remote_desert\", \"airpo\", \"aal\", \"socialmedia\", \"final\", \"livery\", \"airline\", \"change\", \"amp\", \"service\", \"blue\", \"take\", \"parking\", \"stock\", \"jetblue\", \"good\", \"plane\", \"american\", \"due\", \"man\", \"lady_calls\", \"crazy_white\", \"black_woman\", \"racist_whitelady\", \"fight\", \"decrease\", \"tulsa_international\", \"jets_parke\", \"covid\", \"class\", \"like_want\", \"thank\", \"due\", \"temporarily\", \"american\", \"food\", \"grehound\", \"amtrak\", \"suspend_operation\", \"question\", \"june\", \"airbus\", \"avgeek_avgeek\", \"ephemera_airplane\", \"cut\", \"medical\", \"racist\", \"phoenix\", \"jblu\", \"jetblue\", \"travel\", \"word\", \"airport\", \"year\", \"let\", \"amp\", \"first\", \"airline\", \"flight\", \"help\", \"fly\", \"fee\", \"coronavirus\", \"service\", \"bailout\", \"attendant\", \"get\", \"delta\", \"refund\", \"part\", \"understandable\", \"delayed_austin\", \"jfk_awaite\", \"journey_home\", \"south_africa\", \"ok\", \"future_corporate\", \"condition\", \"buybac\", \"banning_stock\", \"hour\", \"would\", \"say\", \"full\", \"bailout\", \"book\", \"airfare\", \"utter_bullshit\", \"arent_provide\", \"vouchers_everyone\", \"even\", \"push\", \"massive\", \"name\", \"vistaquote\", \"phone\", \"getaway\", \"parabletravel\", \"want\", \"give\", \"refund\", \"credit\", \"move\", \"offer\", \"cancel\", \"flight\", \"pay\", \"coronavirus\", \"need\", \"southw\", \"get\", \"travel\", \"airline\", \"american\", \"fly\", \"choo\", \"speed\", \"could_purchase\", \"cost\", \"california\", \"state\", \"tcx\", \"tcvc\", \"monarch_zbam\", \"contrasting_skie\", \"southwest\", \"hang\", \"delta\", \"go\", \"depart\", \"unite\", \"warn\", \"bos\", \"rebook\", \"parent\", \"nuri\", \"mexico\", \"dora\", \"compass\", \"detain\", \"com\", \"captain\", \"force\", \"demand\", \"global\", \"ceo\", \"hope\", \"airplane\", \"buyback\", \"airline\", \"ticket\", \"money\", \"employee\", \"aviation\", \"customer\", \"cancel\", \"pay\", \"get\", \"time\", \"thank\", \"travel\", \"flight\", \"american\", \"amp\", \"last\", \"male\", \"proceed\", \"bl\", \"calls_black\", \"white_women\", \"jamaica\", \"hardworking_airline\", \"thousand\", \"stand\", \"hundred\", \"call\", \"usa\", \"march\", \"provide\", \"video\", \"barcelona\", \"watch_full\", \"responsible_the\", \"arrive\", \"sad\", \"ministry\", \"reposte\", \"information\", \"telephone\", \"location\", \"key\", \"blog\", \"friday\", \"corporate\", \"attendant\", \"flight\", \"jetblue\", \"word\", \"credit\", \"employee\", \"passenger\", \"fly\", \"back\", \"american\", \"refund\", \"cancel\", \"airline\", \"covid\", \"get\", \"service\", \"airport\", \"buffett\", \"bailoutsall_know\", \"expert\", \"be\", \"ba\", \"refinery_production\", \"source\", \"cuts_oil\", \"worker\", \"protect\", \"disappointed\", \"familiesfirst\", \"petition\", \"happy\", \"sign\", \"unitedairline\", \"corona\", \"almost\", \"flydeltajet\", \"funvalue\", \"positiveenergy\", \"engagement\", \"hostage\", \"country\", \"job\", \"work\", \"late\", \"save\", \"jetblueairway\", \"speak\", \"dal\", \"pilot\", \"fare\", \"united\", \"get\", \"industry\", \"deltaairline\", \"delta\", \"break\", \"government\", \"city\", \"day\", \"time\", \"airline\", \"americanair\", \"jetblue\", \"know\", \"call\", \"stock\", \"refund\", \"fly\", \"coronavirus\", \"flight\", \"change\", \"money\", \"fee\", \"southwest\"], \"Total\": [135.0, 136.0, 132.0, 130.0, 129.0, 128.0, 142.0, 136.0, 134.0, 139.0, 64.0, 135.0, 85.0, 43.0, 34.0, 33.0, 33.0, 37.0, 47.0, 90.0, 100.0, 39.0, 28.0, 22.0, 22.0, 22.0, 22.0, 22.0, 22.0, 36.0, 129.3321075439453, 128.88143920898438, 130.94940185546875, 132.10418701171875, 136.01705932617188, 135.85781860351562, 136.77015686035156, 134.7305145263672, 142.318603515625, 139.12960815429688, 14.762269020080566, 14.048798561096191, 14.04879379272461, 14.920373916625977, 11.350191116333008, 21.68577766418457, 6.403868675231934, 5.660566329956055, 5.660566329956055, 5.660566806793213, 5.660567283630371, 5.660566329956055, 5.660594463348389, 5.660938739776611, 5.503937721252441, 5.503940105438232, 9.93757438659668, 4.946778774261475, 6.434530258178711, 9.411443710327148, 349.8644714355469, 31.11587142944336, 40.497886657714844, 23.96993637084961, 8.884763717651367, 15.202407836914062, 10.381794929504395, 13.423562049865723, 90.65647888183594, 9.53096866607666, 17.564836502075195, 100.66657257080078, 29.788326263427734, 21.216270446777344, 20.243532180786133, 20.24353790283203, 20.243539810180664, 20.2435359954834, 20.243541717529297, 12.572502136230469, 12.085796356201172, 12.085794448852539, 39.25067901611328, 13.72326374053955, 9.154718399047852, 23.449825286865234, 29.788326263427734, 7.076533794403076, 100.66657257080078, 6.793625354766846, 6.592092037200928, 6.5920915603637695, 6.592091083526611, 6.508378028869629, 6.385397434234619, 8.863479614257812, 6.223230361938477, 6.223232746124268, 9.415416717529297, 5.902260780334473, 5.902445316314697, 6.717926979064941, 8.485894203186035, 90.65647888183594, 43.12122344970703, 30.69832992553711, 28.840261459350586, 17.407512664794922, 11.006359100341797, 40.497886657714844, 17.498273849487305, 349.8644714355469, 135.6524200439453, 15.6640043258667, 35.74102783203125, 14.36982536315918, 32.18082809448242, 23.96993637084961, 36.1436653137207, 21.541244506835938, 42.96122741699219, 85.16571044921875, 44.31903839111328, 22.704824447631836, 22.52743911743164, 22.527441024780273, 22.527442932128906, 22.527441024780273, 22.527437210083008, 16.36935806274414, 16.36936378479004, 16.36936378479004, 15.259363174438477, 15.259359359741211, 28.92560577392578, 22.49885368347168, 23.11281967163086, 10.045750617980957, 36.1436653137207, 12.040185928344727, 6.058910846710205, 6.058910369873047, 6.0589118003845215, 6.0589118003845215, 7.32288122177124, 5.8088202476501465, 5.382385730743408, 6.531270980834961, 6.256853103637695, 6.535503387451172, 5.200623035430908, 5.200623989105225, 9.5447998046875, 26.213937759399414, 44.31903839111328, 19.789690017700195, 8.24826717376709, 9.598772048950195, 34.35976028442383, 135.6524200439453, 12.777765274047852, 32.18082809448242, 16.174917221069336, 9.386432647705078, 42.96122741699219, 43.12122344970703, 349.8644714355469, 100.66657257080078, 35.74102783203125, 64.61812591552734, 33.71232604980469, 33.71238327026367, 34.389896392822266, 37.03142547607422, 43.17609786987305, 10.752008438110352, 10.752010345458984, 10.752013206481934, 10.75201416015625, 47.06583786010742, 5.558258056640625, 85.16571044921875, 23.54482650756836, 15.025029182434082, 8.533748626708984, 4.89469575881958, 4.795917987823486, 6.485958576202393, 5.513113975524902, 4.477053165435791, 4.477053165435791, 4.477053165435791, 4.477051734924316, 4.477052211761475, 4.478698253631592, 4.304426193237305, 5.608139514923096, 4.304139137268066, 4.910728454589844, 6.284177303314209, 7.098743438720703, 8.84888744354248, 6.6733880043029785, 349.8644714355469, 17.514095306396484, 16.273555755615234, 12.582969665527344, 14.321395874023438, 19.986690521240234, 34.35976028442383, 12.777765274047852, 42.96122741699219, 18.019269943237305, 23.449825286865234, 43.12122344970703, 135.6524200439453, 100.66657257080078, 40.497886657714844, 139.12960815429688, 11.827947616577148, 11.465255737304688, 11.46532917022705, 11.465330123901367, 11.465415000915527, 9.131345748901367, 8.739545822143555, 8.739546775817871, 9.227766036987305, 10.031017303466797, 17.30144500732422, 8.25466251373291, 8.630861282348633, 10.775106430053711, 5.706771373748779, 5.706772327423096, 5.706770420074463, 5.707451343536377, 8.234929084777832, 7.845995903015137, 5.105599403381348, 5.1079864501953125, 5.0471649169921875, 5.047166347503662, 5.7371392250061035, 4.982191562652588, 5.279726505279541, 6.938601016998291, 6.062633514404297, 21.541244506835938, 135.6524200439453, 90.65647888183594, 30.69832992553711, 19.789690017700195, 12.582969665527344, 19.714820861816406, 35.74102783203125, 12.61475944519043, 100.66657257080078, 44.31903839111328, 34.35976028442383, 349.8644714355469, 39.25067901611328, 42.96122741699219, 23.96993637084961, 28.840261459350586, 9.016304016113281, 9.016297340393066, 9.016304016113281, 10.046082496643066, 9.797075271606445, 4.76569128036499, 4.765689373016357, 4.765689373016357, 4.767661094665527, 5.892333984375, 4.169609069824219, 4.112639904022217, 4.112639427185059, 6.070451736450195, 4.520449638366699, 6.402558326721191, 5.618438720703125, 3.8417301177978516, 3.8417296409606934, 3.842754602432251, 3.842754602432251, 3.84275484085083, 3.8430726528167725, 3.8430731296539307, 6.774074077606201, 6.123529434204102, 5.168532371520996, 3.7872238159179688, 3.7876200675964355, 3.7876195907592773, 6.5773820877075195, 4.3410725593566895, 4.340728759765625, 12.419722557067871, 42.96122741699219, 8.208551406860352, 7.357118129730225, 85.16571044921875, 4.838271617889404, 8.818123817443848, 4.958029747009277, 14.842509269714355, 18.019269943237305, 349.8644714355469, 9.499955177307129, 90.65647888183594, 14.26253890991211, 17.30144500732422, 13.423562049865723, 44.31903839111328, 35.74102783203125, 32.18082809448242, 135.6524200439453, 31.11587142944336, 16.273555755615234, 14.36982536315918, 47.06583786010742], \"loglift\": [30.0, 29.0, 28.0, 27.0, 26.0, 25.0, 24.0, 23.0, 22.0, 21.0, 20.0, 19.0, 18.0, 17.0, 16.0, 15.0, 14.0, 13.0, 12.0, 11.0, 10.0, 9.0, 8.0, 7.0, 6.0, 5.0, 4.0, 3.0, 2.0, 1.0, 1.3743000030517578, 1.3743000030517578, 1.3739999532699585, 1.3736000061035156, 1.3734999895095825, 1.3734999895095825, 1.3521000146865845, 1.3488999605178833, 1.3308000564575195, 1.3273999691009521, 1.2201999425888062, 1.2105000019073486, 1.2105000019073486, 1.1740000247955322, 1.163699984550476, 1.1162999868392944, 0.9465000033378601, 0.8723000288009644, 0.8723000288009644, 0.8723000288009644, 0.8723000288009644, 0.8723000288009644, 0.8720999956130981, 0.8708999752998352, 0.8514000177383423, 0.8514000177383423, 0.7975000143051147, 0.7698000073432922, 0.7440999746322632, 0.713699996471405, 0.5275999903678894, 0.5097000002861023, -0.05270000174641609, 0.041600000113248825, 0.5730000138282776, 0.20679999887943268, 0.46470001339912415, 0.28299999237060547, -1.1367000341415405, 0.491100013256073, 0.012199999764561653, -1.5342999696731567, -0.5861999988555908, 1.3725999593734741, 1.368399977684021, 1.368399977684021, 1.368399977684021, 1.368399977684021, 1.368399977684021, 1.2877000570297241, 1.2800999879837036, 1.2800999879837036, 1.2520999908447266, 1.2310999631881714, 1.2031999826431274, 1.1856000423431396, 1.1711000204086304, 1.0994000434875488, 1.0893000364303589, 1.0791000127792358, 1.0658999681472778, 1.0658999681472778, 1.0658999681472778, 1.0570000410079956, 1.0478999614715576, 1.039199948310852, 1.0313999652862549, 1.0313999652862549, 1.014799952507019, 1.0042999982833862, 1.003600001335144, 1.0019999742507935, 0.9947999715805054, 0.9449999928474426, 0.9484000205993652, 0.9570000171661377, 0.9545999765396118, 0.972100019454956, 0.9861999750137329, 0.817300021648407, 0.9067000150680542, 0.2572000026702881, 0.4350000023841858, 0.8792999982833862, 0.6794999837875366, 0.8220000267028809, 0.4490000009536743, 0.4837999939918518, 0.1632000058889389, 0.4968000054359436, -0.06610000133514404, -0.6362000107765198, -0.09780000150203705, 1.6832000017166138, 1.6832000017166138, 1.6832000017166138, 1.6832000017166138, 1.6832000017166138, 1.6832000017166138, 1.638700008392334, 1.638700008392334, 1.638700008392334, 1.6272000074386597, 1.6272000074386597, 1.5740000009536743, 1.5471999645233154, 1.520900011062622, 1.373900055885315, 1.3463000059127808, 1.3349000215530396, 1.3072999715805054, 1.3072999715805054, 1.3072999715805054, 1.3072999715805054, 1.2904000282287598, 1.2763999700546265, 1.2175999879837036, 1.2065000534057617, 1.1924999952316284, 1.1852999925613403, 1.1836999654769897, 1.1836999654769897, 1.1771999597549438, 1.1648000478744507, 1.079699993133545, 1.0318000316619873, 1.1471999883651733, 1.1181000471115112, 0.8579999804496765, 0.5666000247001648, 1.0403000116348267, 0.5928999781608582, 0.8705999851226807, 1.1074999570846558, 0.2833000123500824, 0.26669999957084656, -0.9531999826431274, -0.6992999911308289, -0.0575999990105629, 1.9026999473571777, 1.8676999807357788, 1.8676999807357788, 1.8659000396728516, 1.7868000268936157, 1.7453999519348145, 1.6931999921798706, 1.6931999921798706, 1.6931999921798706, 1.6931999921798706, 1.6347999572753906, 1.3832999467849731, 1.381100058555603, 1.3776999711990356, 1.3696999549865723, 1.3688000440597534, 1.2929999828338623, 1.2626999616622925, 1.2619999647140503, 1.2391999959945679, 1.204200029373169, 1.204200029373169, 1.204200029373169, 1.204200029373169, 1.204200029373169, 1.1857999563217163, 1.1550999879837036, 1.1536999940872192, 1.1526000499725342, 1.1440999507904053, 1.1279000043869019, 1.118899941444397, 1.049399971961975, 1.0949000120162964, -0.055399999022483826, 0.7416999936103821, 0.7116000056266785, 0.7716000080108643, 0.6938999891281128, 0.4862000048160553, -0.10620000213384628, 0.5778999924659729, -0.39430001378059387, 0.29510000348091125, 0.0575999990105629, -0.4643000066280365, -1.4895999431610107, -1.269700050354004, -0.44850000739097595, -1.6360000371932983, 1.8788000345230103, 1.8705999851226807, 1.8705999851226807, 1.8705999851226807, 1.8704999685287476, 1.8026000261306763, 1.7829999923706055, 1.7829999923706055, 1.728600025177002, 1.6450999975204468, 1.6116000413894653, 1.610200047492981, 1.5924999713897705, 1.5744999647140503, 1.5621999502182007, 1.5621999502182007, 1.5621999502182007, 1.5607000589370728, 1.488700032234192, 1.4807000160217285, 1.4745999574661255, 1.4730000495910645, 1.4585000276565552, 1.4585000276565552, 1.4573999643325806, 1.4483000040054321, 1.4420000314712524, 1.4076999425888062, 1.4043999910354614, 1.371000051498413, 0.8945000171661377, 0.5583999752998352, 0.885699987411499, 1.0219000577926636, 1.1547000408172607, 0.9337000250816345, 0.6290000081062317, 1.080899953842163, 0.05739999935030937, 0.41429999470710754, 0.4560000002384186, -1.180299997329712, 0.2475000023841858, 0.13850000500679016, 0.5231999754905701, 0.26579999923706055, 2.0429000854492188, 2.0429000854492188, 2.0429000854492188, 1.9723999500274658, 1.909600019454956, 1.645400047302246, 1.645400047302246, 1.645400047302246, 1.6433000564575195, 1.5434999465942383, 1.4805999994277954, 1.4637999534606934, 1.4637999534606934, 1.4478000402450562, 1.4335999488830566, 1.422700047492981, 1.4084999561309814, 1.3557000160217285, 1.3557000160217285, 1.3535000085830688, 1.3535000085830688, 1.3535000085830688, 1.3533999919891357, 1.3533999919891357, 1.3415000438690186, 1.3348000049591064, 1.3339999914169312, 1.32669997215271, 1.3265000581741333, 1.3265000581741333, 1.323199987411499, 1.323699951171875, 1.3235000371932983, 1.242900013923645, 1.1030999422073364, 1.2301000356674194, 1.2223999500274658, 0.6865000128746033, 1.3020000457763672, 1.1539000272750854, 1.284999966621399, 0.9158999919891357, 0.722599983215332, -0.6434000134468079, 0.9944999814033508, -0.415800005197525, 0.6571000218391418, 0.5065000057220459, 0.6654000282287598, -0.22450000047683716, -0.163100004196167, -0.08569999784231186, -1.3702000379562378, -0.0731000006198883, 0.4814999997615814, 0.5652999877929688, -0.6265000104904175], \"logprob\": [30.0, 29.0, 28.0, 27.0, 26.0, 25.0, 24.0, 23.0, 22.0, 21.0, 20.0, 19.0, 18.0, 17.0, 16.0, 15.0, 14.0, 13.0, 12.0, 11.0, 10.0, 9.0, 8.0, 7.0, 6.0, 5.0, 4.0, 3.0, 2.0, 1.0, -3.075900077819824, -3.079400062561035, -3.063800096511841, -3.0553998947143555, -3.0262999534606934, -3.0274999141693115, -3.0422000885009766, -3.060499906539917, -3.0237998962402344, -3.049799919128418, -5.400400161743164, -5.45959997177124, -5.45959997177124, -5.4359002113342285, -5.719699859619141, -5.119699954986572, -6.509200096130371, -6.7067999839782715, -6.7067999839782715, -6.7067999839782715, -6.7067999839782715, -6.7067999839782715, -6.706900119781494, -6.708199977874756, -6.755799770355225, -6.755799770355225, -6.218800067901611, -6.9440999031066895, -6.7067999839782715, -6.35699987411499, -2.927500009536743, -5.365200042724609, -5.664100170135498, -6.094299793243408, -6.555300235748291, -6.384399890899658, -6.507900238037109, -6.432600021362305, -5.942299842834473, -6.566999912261963, -6.434500217437744, -6.235199928283691, -6.504700183868408, -4.885200023651123, -4.936399936676025, -4.936399936676025, -4.936399936676025, -4.936399936676025, -4.936399936676025, -5.4934000968933105, -5.540500164031982, -5.540500164031982, -4.390500068664551, -5.462399959564209, -5.895199775695801, -4.972099781036377, -4.747399806976318, -6.256400108337402, -3.6115000247955322, -6.317500114440918, -6.360899925231934, -6.360899925231934, -6.360899925231934, -6.382599830627441, -6.410699844360352, -6.0914998054504395, -6.452899932861328, -6.452899932861328, -6.0553998947143555, -6.5329999923706055, -6.533599853515625, -6.405799865722656, -6.1793999671936035, -3.860599994659424, -4.600200176239014, -4.931399822235107, -4.996200084686279, -5.48360013961792, -5.927999973297119, -4.794099807739258, -5.543799877166748, -3.1977999210357666, -3.9674999713897705, -5.682000160217285, -5.05679988861084, -5.825500011444092, -5.392199993133545, -5.6519999504089355, -5.5619001388549805, -5.7459001541137695, -5.6184000968933105, -5.504199981689453, -5.61899995803833, -4.506800174713135, -4.514699935913086, -4.514699935913086, -4.514699935913086, -4.514699935913086, -4.514699935913086, -4.878499984741211, -4.878499984741211, -4.878499984741211, -4.96019983291626, -4.96019983291626, -4.373899936676025, -4.651899814605713, -4.651299953460693, -5.6315999031066895, -4.378900051116943, -5.489500045776367, -6.203800201416016, -6.203800201416016, -6.203800201416016, -6.203800201416016, -6.031199932098389, -6.276800155639648, -6.411900043487549, -6.229499816894531, -6.286499977111816, -6.250100135803223, -6.480199813842773, -6.480199813842773, -5.879499912261963, -4.881499767303467, -4.4415998458862305, -5.2957000732421875, -6.0553998947143555, -5.9328999519348145, -4.917799949645996, -3.835900068283081, -5.724599838256836, -5.2484002113342285, -5.658599853515625, -5.96589994430542, -5.269000053405762, -5.281899929046631, -4.408299922943115, -5.400100231170654, -5.793900012969971, -3.2414000034332275, -3.927000045776367, -3.927000045776367, -3.9089999198913574, -3.9140000343322754, -3.8018999099731445, -5.24429988861084, -5.24429988861084, -5.24429988861084, -5.24429988861084, -3.826200008392334, -6.214099884033203, -3.4869000911712646, -4.776100158691406, -5.2332000732421875, -5.799799919128418, -6.43149995803833, -6.482100009918213, -6.1809000968933105, -6.366300106048584, -6.609499931335449, -6.609499931335449, -6.609499931335449, -6.609499931335449, -6.609499931335449, -6.627500057220459, -6.69789981842041, -6.434700012207031, -6.700399875640869, -6.577099800109863, -6.346700191497803, -6.233799934387207, -6.082900047302246, -6.3196001052856445, -3.510499954223633, -5.707900047302246, -5.811399936676025, -6.008699893951416, -5.956900119781494, -5.831399917602539, -5.881899833679199, -6.186999797821045, -5.946599960327148, -6.126100063323975, -6.100200176239014, -6.013000011444092, -5.892099857330322, -5.9704999923706055, -6.059899806976318, -6.013199806213379, -4.963399887084961, -5.002699851989746, -5.002699851989746, -5.002699851989746, -5.002799987792969, -5.298299789428711, -5.361800193786621, -5.361800193786621, -5.361800193786621, -5.361800193786621, -4.850200176239014, -5.591599941253662, -5.564799785614014, -5.360899925231934, -6.008800029754639, -6.008800029754639, -6.008800029754639, -6.010200023651123, -5.71560001373291, -5.771900177001953, -6.207699775695801, -6.208799839019775, -6.235300064086914, -6.235300064086914, -6.1082000732421875, -6.258500099182129, -6.206699848175049, -5.967800140380859, -6.106100082397461, -4.871600151062012, -3.5081000328063965, -4.247099876403809, -5.002699851989746, -5.305500030517578, -5.6255998611450195, -5.397600173950195, -5.1072998046875, -5.696899890899658, -4.643400192260742, -5.106900215148926, -5.319699764251709, -4.63539981842041, -5.395100116729736, -5.41379976272583, -5.61269998550415, -5.685100078582764, -5.0706000328063965, -5.0706000328063965, -5.0706000328063965, -5.0329999923706055, -5.1209001541137695, -6.105800151824951, -6.105800151824951, -6.105800151824951, -6.107500076293945, -5.995500087738037, -6.404200077056885, -6.434700012207031, -6.434700012207031, -6.061299800872803, -6.3703999519348145, -6.033199787139893, -6.178100109100342, -6.611000061035156, -6.611000061035156, -6.6128997802734375, -6.6128997802734375, -6.6128997802734375, -6.6128997802734375, -6.6128997802734375, -6.05810022354126, -6.1656999588012695, -6.335999965667725, -6.654300212860107, -6.654300212860107, -6.654300212860107, -6.105800151824951, -6.5208001136779785, -6.521100044250488, -5.5503997802734375, -4.44920015335083, -5.977399826049805, -6.094600200653076, -4.18149995803833, -6.434100151062012, -5.981900215148926, -6.426599979400635, -5.69920015335083, -5.698500156402588, -4.098499774932861, -6.066800117492676, -5.22130012512207, -5.997799873352051, -5.9552998542785645, -6.050300121307373, -5.745800018310547, -5.899499893188477, -5.9268999099731445, -5.77269983291626, -5.947999954223633, -6.041600227355957, -6.082200050354004, -6.087600231170654]}, \"token.table\": {\"Topic\": [1, 2, 3, 1, 2, 4, 1, 2, 3, 1, 2, 3, 4, 5, 6, 1, 2, 4, 5, 1, 2, 1, 2, 3, 4, 5, 6, 1, 2, 6, 1, 2, 3, 4, 5, 6, 1, 2, 3, 5, 6, 1, 2, 3, 4, 5, 6, 1, 2, 1, 2, 3, 1, 2, 5, 1, 2, 3, 5, 1, 2, 1, 2, 4, 1, 2, 3, 6, 1, 2, 3, 4, 5, 1, 2, 3, 4, 5, 1, 2, 6, 1, 2, 3, 1, 2, 5, 1, 2, 3, 6, 1, 2, 3, 4, 5, 1, 2, 5, 1, 2, 1, 2, 4, 5, 1, 2, 4, 1, 2, 1, 2, 3, 4, 5, 6, 1, 2, 4, 1, 2, 5, 6, 1, 2, 6, 1, 2, 4, 5, 1, 2, 3, 1, 2, 4, 5, 6, 1, 2, 3, 4, 5, 1, 2, 3, 5, 6, 1, 2, 5, 1, 2, 3, 4, 5, 6, 1, 2, 4, 1, 2, 3, 4, 1, 2, 3, 4, 1, 2, 3, 4, 5, 6, 1, 2, 4, 1, 2, 6, 1, 2, 3, 5, 1, 2, 3, 4, 1, 2, 4, 1, 2, 3, 1, 2, 4, 1, 2, 1, 2, 3, 6, 1, 2, 1, 2, 3, 4, 5, 6, 1, 2, 5, 6, 1, 2, 4, 1, 2, 4, 1, 2, 6, 1, 2, 3, 5, 1, 2, 1, 2, 3, 4, 5, 1, 2, 3, 4, 5, 1, 2, 3, 4, 1, 2, 6, 1, 2, 4, 6, 1, 2, 3, 4, 6, 1, 2, 4, 1, 2, 1, 2, 3, 4, 1, 2, 3, 4, 5, 6, 1, 2, 4, 5, 6, 1, 2, 3, 4, 1, 2, 4, 5, 6, 1, 2, 4, 1, 2, 6, 1, 2, 4, 1, 2, 3, 5, 1, 2, 3, 4, 5, 1, 2, 6, 1, 2, 1, 2, 3, 6, 1, 2, 6, 1, 2, 1, 2, 6, 1, 2, 5, 6, 1, 2, 3, 4, 5, 6, 1, 2, 1, 2, 1, 2, 3, 4, 5, 1, 2, 3, 4, 5, 6, 1, 2, 4, 1, 2, 3, 5, 6, 1, 2, 6, 1, 2, 1, 2, 4, 1, 2, 3, 4, 1, 2, 4, 5, 1, 2, 3, 6, 1, 2, 6, 1, 2, 3, 1, 2, 3, 4, 5, 6, 1, 2, 3, 4, 1, 2, 3, 4, 5, 6, 1, 2, 4, 5, 1, 2, 3, 4, 5, 6, 1, 2, 4, 1, 2, 3, 4, 6, 1, 2, 1, 2, 3, 4, 1, 2, 3, 4, 1, 2, 4, 6, 1, 2, 5, 1, 2, 3, 4, 5, 1, 2, 3, 4, 5, 6, 1, 2, 6, 1, 2, 3, 4, 5, 1, 2, 5, 6, 1, 2, 1, 2, 3, 5, 6, 1, 2, 3, 4, 1, 2, 5, 1, 2, 5, 1, 2, 6, 1, 2, 3, 4, 5, 6, 1, 2, 6, 1, 2, 1, 2, 3, 4, 1, 2, 3, 4, 6, 1, 2, 3, 4, 1, 2, 1, 2, 3, 4, 5, 6, 1, 2, 5, 1, 2, 3, 4, 6, 1, 2, 1, 2, 1, 2, 3, 4, 5, 1, 2, 3, 6, 1, 2, 3, 4, 1, 2, 1, 2, 1, 2, 5, 6, 1, 2, 5, 1, 2, 3, 1, 2, 4, 5, 6, 1, 2, 3, 1, 2, 1, 2, 4, 1, 2, 5, 1, 2, 1, 2, 4, 1, 2, 3, 4, 5, 6, 1, 2, 3, 1, 2, 3, 5, 1, 2, 3, 4, 5, 6, 1, 2, 4, 1, 2, 3, 4, 5, 1, 2, 3, 1, 2, 3, 4, 1, 2, 4, 5, 1, 2, 4, 1, 2, 3, 4, 1, 2, 3, 4, 5, 6, 1, 2, 3, 4, 5, 6, 1, 2, 3, 1, 2, 6, 1, 2, 6, 1, 2, 3, 6, 1, 2, 5, 6, 1, 2, 3, 4, 5, 6, 1, 2, 6, 1, 2, 5, 1, 2, 6, 1, 2, 3, 5, 1, 2, 3, 1, 2, 1, 2, 1, 2, 1, 2, 3, 4, 1, 2, 6, 1, 2, 3, 4, 5, 6, 1, 2, 1, 2, 5, 1, 2, 5, 1, 2, 3, 1, 2, 3, 5, 6, 1, 2, 6, 1, 2, 3, 6, 1, 2, 3, 1, 2, 3, 4, 5, 1, 2, 3, 4, 1, 2, 6, 1, 2, 1, 2, 6, 1, 2, 3, 4, 1, 2, 3, 4, 6, 1, 2, 3, 4, 6, 1, 2, 6, 1, 2, 4, 1, 2, 3, 4, 1, 2, 5, 1, 2, 3, 4, 1, 2, 3, 4, 5, 6, 1, 2, 1, 2, 3, 4, 5, 6, 1, 2, 1, 2, 4, 1, 2, 4, 1, 2, 5, 1, 2, 1, 2, 3, 4, 6, 1, 2, 1, 2, 5, 1, 2, 3, 4, 5, 6, 1, 2, 3, 4, 5, 6, 1, 2, 3, 4, 5, 1, 2, 1, 2, 3, 4, 1, 2, 4, 1, 2, 3, 6, 1, 2, 5, 6, 1, 2, 3, 4, 5, 6, 1, 2, 3, 1, 2, 5, 1, 2, 3, 1, 2, 3, 1, 2, 3, 6, 1, 2, 4, 1, 2, 5, 1, 2, 5, 1, 2, 3, 5, 1, 2, 4, 5, 6, 1, 2, 6, 1, 2, 3, 6, 1, 2, 3, 5], \"Freq\": [0.5031408667564392, 0.20125634968280792, 0.10062817484140396, 0.1128225103020668, 0.676935076713562, 0.1128225103020668, 0.16504617035388947, 0.16504617035388947, 0.6601846814155579, 0.42016270756721497, 0.2915414571762085, 0.06288149207830429, 0.13719598948955536, 0.037157244980335236, 0.048590242862701416, 0.33902567625045776, 0.11300855875015259, 0.45203423500061035, 0.11300855875015259, 0.5450640916824341, 0.18168802559375763, 0.10402125120162964, 0.5894537568092346, 0.06934750080108643, 0.03467375040054321, 0.17336875200271606, 0.03467375040054321, 0.2602993845939636, 0.2602993845939636, 0.2602993845939636, 0.049668919295072556, 0.67549729347229, 0.07947026938199997, 0.039735134690999985, 0.12913919985294342, 0.019867567345499992, 0.10526365786790848, 0.31579095125198364, 0.21052731573581696, 0.21052731573581696, 0.21052731573581696, 0.2469264715909958, 0.5185455679893494, 0.04938529431819916, 0.09877058863639832, 0.07407794147729874, 0.04938529431819916, 0.15169692039489746, 0.6067876815795898, 0.16504614055156708, 0.16504614055156708, 0.6601845622062683, 0.12143395096063614, 0.12143395096063614, 0.48573580384254456, 0.046422574669122696, 0.37138059735298157, 0.09284514933824539, 0.46422573924064636, 0.16068825125694275, 0.642753005027771, 0.13965119421482086, 0.4887791574001312, 0.2793023884296417, 0.10207127779722214, 0.10207127779722214, 0.20414255559444427, 0.6124276518821716, 0.07927221804857254, 0.23781666159629822, 0.07927221804857254, 0.15854443609714508, 0.3963611125946045, 0.027667365968227386, 0.27667364478111267, 0.6363493800163269, 0.027667365968227386, 0.027667365968227386, 0.11091027408838272, 0.11091027408838272, 0.7763718962669373, 0.06553354859352112, 0.06553354859352112, 0.8519361615180969, 0.17523039877414703, 0.17523039877414703, 0.5256912112236023, 0.09954129159450531, 0.09954129159450531, 0.09954129159450531, 0.696789026260376, 0.9574668407440186, 0.007422223687171936, 0.007422223687171936, 0.007422223687171936, 0.029688894748687744, 0.0872194766998291, 0.0872194766998291, 0.7849752902984619, 0.049398474395275116, 0.8891725540161133, 0.18940375745296478, 0.18940375745296478, 0.18940375745296478, 0.5682112574577332, 0.4502089321613312, 0.337656706571579, 0.1125522330403328, 0.5299474596977234, 0.17664915323257446, 0.08305519819259644, 0.08305519819259644, 0.6644415855407715, 0.08305519819259644, 0.08305519819259644, 0.08305519819259644, 0.2085106521844864, 0.2085106521844864, 0.4170213043689728, 0.2066853791475296, 0.2066853791475296, 0.2066853791475296, 0.4133707582950592, 0.11091019213199615, 0.11091019213199615, 0.7763713598251343, 0.9578112959861755, 0.007311536464840174, 0.007311536464840174, 0.02193460986018181, 0.06553353369235992, 0.06553353369235992, 0.8519359230995178, 0.14984892308712006, 0.14984892308712006, 0.449546754360199, 0.14984892308712006, 0.14984892308712006, 0.027004091069102287, 0.027004091069102287, 0.027004091069102287, 0.8641309142112732, 0.08101227134466171, 0.05779863893985748, 0.11559727787971497, 0.05779863893985748, 0.6357850432395935, 0.17339591681957245, 0.0872194692492485, 0.0872194692492485, 0.7849752306938171, 0.02910381183028221, 0.20372667908668518, 0.37834954261779785, 0.11641524732112885, 0.20372667908668518, 0.05820762366056442, 0.23231899738311768, 0.23231899738311768, 0.46463799476623535, 0.9778185486793518, 0.007352019194513559, 0.007352019194513559, 0.007352019194513559, 0.1591298133134842, 0.1591298133134842, 0.1591298133134842, 0.47738945484161377, 0.4177932143211365, 0.2571035325527191, 0.06427588313817978, 0.03213794156908989, 0.12855176627635956, 0.09641382098197937, 0.015475533902645111, 0.015475533902645111, 0.9594830870628357, 0.20169302821159363, 0.20169302821159363, 0.40338605642318726, 0.0728689655661583, 0.8015586137771606, 0.0728689655661583, 0.0728689655661583, 0.2232791632413864, 0.2232791632413864, 0.2232791632413864, 0.4465583264827728, 0.2233612835407257, 0.2233612835407257, 0.4467225670814514, 0.06108972802758217, 0.06108972802758217, 0.855256199836731, 0.09300582855939865, 0.09300582855939865, 0.7440466284751892, 0.5299822688102722, 0.17666076123714447, 0.17798538506031036, 0.17798538506031036, 0.17798538506031036, 0.3559707701206207, 0.6246224045753479, 0.15615560114383698, 0.1242976114153862, 0.3418184220790863, 0.3107440173625946, 0.0621488057076931, 0.0621488057076931, 0.0932232066988945, 0.1649448275566101, 0.1649448275566101, 0.49483445286750793, 0.1649448275566101, 0.02907830849289894, 0.02907830849289894, 0.9305058717727661, 0.029662691056728363, 0.029662691056728363, 0.9195433855056763, 0.2602084279060364, 0.2602084279060364, 0.2602084279060364, 0.025477265939116478, 0.7897952795028687, 0.025477265939116478, 0.15286359190940857, 0.049398478120565414, 0.8891726136207581, 0.05053136125206947, 0.10106272250413895, 0.45478227734565735, 0.05053136125206947, 0.3537195324897766, 0.15009988844394684, 0.25016647577285767, 0.15009988844394684, 0.25016647577285767, 0.20013318955898285, 0.10620878636837006, 0.6372527480125427, 0.10620878636837006, 0.10620878636837006, 0.20983323454856873, 0.20983323454856873, 0.41966646909713745, 0.1520361751317978, 0.3040723502635956, 0.1520361751317978, 0.3040723502635956, 0.06737405061721802, 0.3368702530860901, 0.20212215185165405, 0.20212215185165405, 0.20212215185165405, 0.9776427149772644, 0.007759069092571735, 0.007759069092571735, 0.07953866571187973, 0.7953866124153137, 0.04439030587673187, 0.04439030587673187, 0.8878061175346375, 0.04439030587673187, 0.011741815134882927, 0.11741814762353897, 0.07045088708400726, 0.5753489136695862, 0.04696726053953171, 0.18786904215812683, 0.13592278957366943, 0.27184557914733887, 0.13592278957366943, 0.27184557914733887, 0.27184557914733887, 0.23233449459075928, 0.23233449459075928, 0.23233449459075928, 0.46466898918151855, 0.06655561178922653, 0.199666827917099, 0.5324448943138123, 0.13311122357845306, 0.06655561178922653, 0.22336125373840332, 0.22336125373840332, 0.44672250747680664, 0.2398306429386139, 0.2398306429386139, 0.4796612858772278, 0.22336120903491974, 0.22336120903491974, 0.4467224180698395, 0.13428078591823578, 0.7385443449020386, 0.06714039295911789, 0.033570196479558945, 0.07947249710559845, 0.07947249710559845, 0.07947249710559845, 0.3178899884223938, 0.39736247062683105, 0.2602299749851227, 0.2602299749851227, 0.2602299749851227, 0.16068819165229797, 0.6427527666091919, 0.13655826449394226, 0.13655826449394226, 0.546233057975769, 0.13655826449394226, 0.11091019213199615, 0.11091019213199615, 0.7763713598251343, 0.7929381728172302, 0.0881042405962944, 0.24315282702445984, 0.24315282702445984, 0.4863056540489197, 0.23037606477737427, 0.23037606477737427, 0.23037606477737427, 0.46075212955474854, 0.06959027051925659, 0.48713186383247375, 0.06959027051925659, 0.06959027051925659, 0.13918054103851318, 0.13918054103851318, 0.04939847066998482, 0.8891724944114685, 0.4662345051765442, 0.155411496758461, 0.05714849382638931, 0.5714849233627319, 0.17144548892974854, 0.11429698765277863, 0.05714849382638931, 0.0073717813938856125, 0.34647372364997864, 0.2948712706565857, 0.02948712557554245, 0.2948712706565857, 0.022115344181656837, 0.9819680452346802, 0.007732031866908073, 0.007732031866908073, 0.0839371532201767, 0.4476647973060608, 0.1678743064403534, 0.2238323986530304, 0.0839371532201767, 0.260299414396286, 0.260299414396286, 0.260299414396286, 0.14719681441783905, 0.7359840869903564, 0.1783122569322586, 0.1783122569322586, 0.534936785697937, 0.9415494203567505, 0.04918541759252548, 0.0070264884270727634, 0.0070264884270727634, 0.14412127435207367, 0.14412127435207367, 0.28824254870414734, 0.4323638081550598, 0.09954457730054855, 0.09954457730054855, 0.6968120336532593, 0.09954457730054855, 0.26023000478744507, 0.26023000478744507, 0.26023000478744507, 0.06108972802758217, 0.06108972802758217, 0.855256199836731, 0.0465536043047905, 0.20949122309684753, 0.20949122309684753, 0.093107208609581, 0.1396608203649521, 0.2793216407299042, 0.19228465855121613, 0.19228465855121613, 0.5768539905548096, 0.19228465855121613, 0.03814764693379402, 0.1907382309436798, 0.5340670347213745, 0.11444293707609177, 0.1525905877351761, 0.03814764693379402, 0.2036357820034027, 0.2036357820034027, 0.4072715640068054, 0.2036357820034027, 0.042472176253795624, 0.1698887050151825, 0.08494435250759125, 0.5521382689476013, 0.08494435250759125, 0.08494435250759125, 0.4196845293045044, 0.3147633969783783, 0.1049211323261261, 0.11340280622243881, 0.11340280622243881, 0.34020841121673584, 0.22680561244487762, 0.34020841121673584, 0.15169690549373627, 0.6067876219749451, 0.976502001285553, 0.0075697829015553, 0.0075697829015553, 0.0075697829015553, 0.1799124777317047, 0.1799124777317047, 0.1799124777317047, 0.5397374629974365, 0.16473238170146942, 0.16473238170146942, 0.16473238170146942, 0.32946476340293884, 0.11442242562770844, 0.11442242562770844, 0.6865345239639282, 0.06384063512086868, 0.5745657086372375, 0.19152191281318665, 0.06384063512086868, 0.12768127024173737, 0.14087000489234924, 0.14087000489234924, 0.14087000489234924, 0.42261001467704773, 0.14087000489234924, 0.14087000489234924, 0.26020845770835876, 0.26020845770835876, 0.26020845770835876, 0.03457144647836685, 0.03457144647836685, 0.7951432466506958, 0.03457144647836685, 0.10371433943510056, 0.09969078749418259, 0.09969078749418259, 0.5981447100639343, 0.09969078749418259, 0.5299822092056274, 0.17666074633598328, 0.12182417511940002, 0.24364835023880005, 0.24364835023880005, 0.12182417511940002, 0.3654725253582001, 0.8042693734169006, 0.06702245026826859, 0.06702245026826859, 0.06702245026826859, 0.1981310397386551, 0.1981310397386551, 0.5943930745124817, 0.10951288044452667, 0.10951288044452667, 0.7665901780128479, 0.11784262210130692, 0.5892130732536316, 0.11784262210130692, 0.0772145614027977, 0.5846245288848877, 0.0551532544195652, 0.0110306516289711, 0.2095823734998703, 0.0661839097738266, 0.2640180289745331, 0.2640180289745331, 0.2640180289745331, 0.08274176716804504, 0.8274176716804504, 0.044390302151441574, 0.044390302151441574, 0.8878060579299927, 0.044390302151441574, 0.14762164652347565, 0.14762164652347565, 0.14762164652347565, 0.14762164652347565, 0.2952432930469513, 0.04439030587673187, 0.04439030587673187, 0.8878061175346375, 0.04439030587673187, 0.15660732984542847, 0.6264293193817139, 0.7378107309341431, 0.13833951950073242, 0.04611317068338394, 0.04611317068338394, 0.04611317068338394, 0.04611317068338394, 0.20071488618850708, 0.20071488618850708, 0.6021446585655212, 0.07011374086141586, 0.49079620838165283, 0.21034123003482819, 0.07011374086141586, 0.21034123003482819, 0.04939849302172661, 0.8891729116439819, 0.5299796462059021, 0.17665989696979523, 0.9343805313110352, 0.0071875425055623055, 0.0071875425055623055, 0.028750170022249222, 0.02156262844800949, 0.193478524684906, 0.193478524684906, 0.193478524684906, 0.386957049369812, 0.09085656702518463, 0.6359959840774536, 0.18171313405036926, 0.09085656702518463, 0.10923328995704651, 0.7646329998970032, 0.5312681198120117, 0.31876087188720703, 0.17430290579795837, 0.17430290579795837, 0.5229086875915527, 0.17430290579795837, 0.08454552292823792, 0.08454552292823792, 0.7609096765518188, 0.047133635729551315, 0.8955391049385071, 0.047133635729551315, 0.11586329340934753, 0.11586329340934753, 0.11586329340934753, 0.5793164372444153, 0.11586329340934753, 0.1857912242412567, 0.1857912242412567, 0.5573736429214478, 0.16942660510540009, 0.6777064204216003, 0.22336120903491974, 0.22336120903491974, 0.4467224180698395, 0.19586339592933655, 0.19586339592933655, 0.5875901579856873, 0.529982328414917, 0.17666077613830566, 0.09300583600997925, 0.09300583600997925, 0.744046688079834, 0.061449386179447174, 0.12289877235889435, 0.2457975447177887, 0.3072469234466553, 0.18434815108776093, 0.12289877235889435, 0.24247516691684723, 0.12123758345842361, 0.48495033383369446, 0.15310955047607422, 0.15310955047607422, 0.6124382019042969, 0.15310955047607422, 0.061824116855859756, 0.3091205954551697, 0.37094470858573914, 0.061824116855859756, 0.12364823371171951, 0.061824116855859756, 0.22336120903491974, 0.22336120903491974, 0.4467224180698395, 0.1041799932718277, 0.1041799932718277, 0.5208999514579773, 0.1041799932718277, 0.2083599865436554, 0.06108975037932396, 0.06108975037932396, 0.8552564978599548, 0.19228461384773254, 0.19228461384773254, 0.57685387134552, 0.19228461384773254, 0.18138569593429565, 0.18138569593429565, 0.544157087802887, 0.18138569593429565, 0.3852898180484772, 0.2889673709869385, 0.1926449090242386, 0.04404350370168686, 0.04404350370168686, 0.8808700442314148, 0.04404350370168686, 0.10144652426242828, 0.2536163032054901, 0.20289304852485657, 0.05072326213121414, 0.30433955788612366, 0.05072326213121414, 0.07826094329357147, 0.07826094329357147, 0.4695656895637512, 0.2347828447818756, 0.07826094329357147, 0.07826094329357147, 0.8541655540466309, 0.07118046283721924, 0.07118046283721924, 0.24315285682678223, 0.24315285682678223, 0.48630571365356445, 0.14885544776916504, 0.5954217910766602, 0.14885544776916504, 0.15301039814949036, 0.15301039814949036, 0.6120415925979614, 0.15301039814949036, 0.2303578108549118, 0.2303578108549118, 0.2303578108549118, 0.4607156217098236, 0.2277277112007141, 0.34159156680107117, 0.05693192780017853, 0.17079578340053558, 0.05693192780017853, 0.05693192780017853, 0.26023000478744507, 0.26023000478744507, 0.26023000478744507, 0.08722003549337387, 0.08722003549337387, 0.784980297088623, 0.16971203684806824, 0.16971203684806824, 0.5091360807418823, 0.09280651062726974, 0.09280651062726974, 0.27841952443122864, 0.5568390488624573, 0.17215199768543243, 0.17215199768543243, 0.5164560079574585, 0.15364810824394226, 0.614592432975769, 0.16942130029201508, 0.6776852011680603, 0.04939848557114601, 0.8891727328300476, 0.15417921543121338, 0.15417921543121338, 0.15417921543121338, 0.46253764629364014, 0.20983314514160156, 0.20983314514160156, 0.4196662902832031, 0.022563666105270386, 0.20307299494743347, 0.4964006543159485, 0.022563666105270386, 0.18050932884216309, 0.06769099831581116, 0.5450643301010132, 0.1816881000995636, 0.19577185809612274, 0.19577185809612274, 0.587315559387207, 0.17520955204963684, 0.17520955204963684, 0.5256286859512329, 0.8128831386566162, 0.06774026155471802, 0.06774026155471802, 0.12745355069637299, 0.12745355069637299, 0.12745355069637299, 0.5098142027854919, 0.12745355069637299, 0.2640456557273865, 0.2640456557273865, 0.2640456557273865, 0.04326603189110756, 0.12979809939861298, 0.7787885665893555, 0.04326603189110756, 0.8541658520698547, 0.07118048518896103, 0.07118048518896103, 0.25031355023384094, 0.3754703402519226, 0.04171892628073692, 0.08343785256147385, 0.20859463512897491, 0.9774767756462097, 0.007636537309736013, 0.007636537309736013, 0.007636537309736013, 0.22121693193912506, 0.22121693193912506, 0.4424338638782501, 0.6064552664756775, 0.20215174555778503, 0.20983323454856873, 0.20983323454856873, 0.41966646909713745, 0.04439031332731247, 0.04439031332731247, 0.8878062963485718, 0.04439031332731247, 0.10653674602508545, 0.2130734920501709, 0.5326837301254272, 0.10653674602508545, 0.2130734920501709, 0.021246833726763725, 0.10623416304588318, 0.0849873349070549, 0.7436391711235046, 0.04249366745352745, 0.26401805877685547, 0.26401805877685547, 0.26401805877685547, 0.029662741348147392, 0.029662741348147392, 0.9195449948310852, 0.978964626789093, 0.007360636256635189, 0.007360636256635189, 0.007360636256635189, 0.10836859047412872, 0.10836859047412872, 0.6502115726470947, 0.023160962387919426, 0.13896577060222626, 0.023160962387919426, 0.8337946534156799, 0.2979834973812103, 0.14899174869060516, 0.07449587434530258, 0.14899174869060516, 0.14899174869060516, 0.14899174869060516, 0.15169693529605865, 0.6067877411842346, 0.3288952708244324, 0.19733716547489166, 0.06577905267477036, 0.19733716547489166, 0.1315581053495407, 0.1315581053495407, 0.529982328414917, 0.17666077613830566, 0.09300586581230164, 0.09300586581230164, 0.7440469264984131, 0.09300588071346283, 0.09300588071346283, 0.7440470457077026, 0.19813098013401031, 0.19813098013401031, 0.5943929553031921, 0.1413121223449707, 0.7065606117248535, 0.04264423996210098, 0.7249521017074585, 0.04264423996210098, 0.17057695984840393, 0.04264423996210098, 0.529982328414917, 0.17666077613830566, 0.11442241072654724, 0.11442241072654724, 0.6865344643592834, 0.05709686875343323, 0.34258121252059937, 0.17129060626029968, 0.28548434376716614, 0.11419373750686646, 0.05709686875343323, 0.05549614503979683, 0.22198458015918732, 0.22198458015918732, 0.1664884388446808, 0.05549614503979683, 0.22198458015918732, 0.04638087376952171, 0.5797609090805054, 0.20871393382549286, 0.09276174753904343, 0.06957130879163742, 0.08274175226688385, 0.8274175524711609, 0.04439030960202217, 0.04439030960202217, 0.8878061771392822, 0.04439030960202217, 0.11718180030584335, 0.11718180030584335, 0.5859090089797974, 0.08051709830760956, 0.32206839323043823, 0.24155129492282867, 0.32206839323043823, 0.15618756413459778, 0.15618756413459778, 0.15618756413459778, 0.46856269240379333, 0.1211436539888382, 0.1211436539888382, 0.1211436539888382, 0.1211436539888382, 0.6057182550430298, 0.1211436539888382, 0.16504618525505066, 0.16504618525505066, 0.6601847410202026, 0.17523042857646942, 0.17523042857646942, 0.5256912708282471, 0.15982475876808167, 0.15982475876808167, 0.4794742465019226, 0.16504614055156708, 0.16504614055156708, 0.6601845622062683, 0.10476908832788467, 0.20953817665576935, 0.5238454341888428, 0.10476908832788467, 0.20430278778076172, 0.20430278778076172, 0.6129083633422852, 0.1752304583787918, 0.1752304583787918, 0.5256913900375366, 0.08721882104873657, 0.08721882104873657, 0.7849693894386292, 0.03257506340742111, 0.5863510966300964, 0.06515012681484222, 0.2931755483150482, 0.16330450773239136, 0.16330450773239136, 0.16330450773239136, 0.16330450773239136, 0.3266090154647827, 0.20974645018577576, 0.20974645018577576, 0.4194929003715515, 0.044446710497140884, 0.13334012031555176, 0.8000407814979553, 0.044446710497140884, 0.05744646117091179, 0.5744646191596985, 0.22978584468364716, 0.11489292234182358], \"Term\": [\"aal\", \"aal\", \"aal\", \"airbus\", \"airbus\", \"airbus\", \"airfare\", \"airfare\", \"airfare\", \"airline\", \"airline\", \"airline\", \"airline\", \"airline\", \"airline\", \"airplane\", \"airplane\", \"airplane\", \"airplane\", \"airpo\", \"airpo\", \"airport\", \"airport\", \"airport\", \"airport\", \"airport\", \"airport\", \"almost\", \"almost\", \"almost\", \"american\", \"american\", \"american\", \"american\", \"american\", \"american\", \"americanair\", \"americanair\", \"americanair\", \"americanair\", \"americanair\", \"amp\", \"amp\", \"amp\", \"amp\", \"amp\", \"amp\", \"amtrak\", \"amtrak\", \"arent_provide\", \"arent_provide\", \"arent_provide\", \"arrive\", \"arrive\", \"arrive\", \"attendant\", \"attendant\", \"attendant\", \"attendant\", \"avgeek_avgeek\", \"avgeek_avgeek\", \"aviation\", \"aviation\", \"aviation\", \"ba\", \"ba\", \"ba\", \"ba\", \"back\", \"back\", \"back\", \"back\", \"back\", \"bailout\", \"bailout\", \"bailout\", \"bailout\", \"bailout\", \"bailoutsall_know\", \"bailoutsall_know\", \"bailoutsall_know\", \"banning_stock\", \"banning_stock\", \"banning_stock\", \"barcelona\", \"barcelona\", \"barcelona\", \"be\", \"be\", \"be\", \"be\", \"big\", \"big\", \"big\", \"big\", \"big\", \"bl\", \"bl\", \"bl\", \"black_woman\", \"black_woman\", \"blog\", \"blog\", \"blog\", \"blog\", \"blue\", \"blue\", \"blue\", \"blueprint\", \"blueprint\", \"book\", \"book\", \"book\", \"book\", \"book\", \"book\", \"bos\", \"bos\", \"bos\", \"break\", \"break\", \"break\", \"break\", \"buffett\", \"buffett\", \"buffett\", \"buy\", \"buy\", \"buy\", \"buy\", \"buybac\", \"buybac\", \"buybac\", \"buyback\", \"buyback\", \"buyback\", \"buyback\", \"buyback\", \"california\", \"california\", \"california\", \"california\", \"california\", \"call\", \"call\", \"call\", \"call\", \"call\", \"calls_black\", \"calls_black\", \"calls_black\", \"cancel\", \"cancel\", \"cancel\", \"cancel\", \"cancel\", \"cancel\", \"captain\", \"captain\", \"captain\", \"cash\", \"cash\", \"cash\", \"cash\", \"ceo\", \"ceo\", \"ceo\", \"ceo\", \"change\", \"change\", \"change\", \"change\", \"change\", \"change\", \"choo\", \"choo\", \"choo\", \"city\", \"city\", \"city\", \"class\", \"class\", \"class\", \"class\", \"com\", \"com\", \"com\", \"com\", \"compass\", \"compass\", \"compass\", \"condition\", \"condition\", \"condition\", \"contrasting_skie\", \"contrasting_skie\", \"contrasting_skie\", \"cook\", \"cook\", \"corona\", \"corona\", \"corona\", \"corona\", \"coronaviru\", \"coronaviru\", \"coronavirus\", \"coronavirus\", \"coronavirus\", \"coronavirus\", \"coronavirus\", \"coronavirus\", \"corporate\", \"corporate\", \"corporate\", \"corporate\", \"cost\", \"cost\", \"cost\", \"could_purchase\", \"could_purchase\", \"could_purchase\", \"country\", \"country\", \"country\", \"covid\", \"covid\", \"covid\", \"covid\", \"crazy_white\", \"crazy_white\", \"credit\", \"credit\", \"credit\", \"credit\", \"credit\", \"customer\", \"customer\", \"customer\", \"customer\", \"customer\", \"cut\", \"cut\", \"cut\", \"cut\", \"cuts_oil\", \"cuts_oil\", \"cuts_oil\", \"dal\", \"dal\", \"dal\", \"dal\", \"day\", \"day\", \"day\", \"day\", \"day\", \"decade\", \"decade\", \"decade\", \"decrease\", \"decrease\", \"delayed_austin\", \"delayed_austin\", \"delayed_austin\", \"delayed_austin\", \"delta\", \"delta\", \"delta\", \"delta\", \"delta\", \"delta\", \"deltaairline\", \"deltaairline\", \"deltaairline\", \"deltaairline\", \"deltaairline\", \"demand\", \"demand\", \"demand\", \"demand\", \"depart\", \"depart\", \"depart\", \"depart\", \"depart\", \"detain\", \"detain\", \"detain\", \"disappointed\", \"disappointed\", \"disappointed\", \"dora\", \"dora\", \"dora\", \"due\", \"due\", \"due\", \"due\", \"employee\", \"employee\", \"employee\", \"employee\", \"employee\", \"engagement\", \"engagement\", \"engagement\", \"ephemera_airplane\", \"ephemera_airplane\", \"even\", \"even\", \"even\", \"even\", \"expert\", \"expert\", \"expert\", \"eye\", \"eye\", \"familiesfirst\", \"familiesfirst\", \"familiesfirst\", \"fare\", \"fare\", \"fare\", \"fare\", \"fee\", \"fee\", \"fee\", \"fee\", \"fee\", \"fee\", \"fight\", \"fight\", \"final\", \"final\", \"first\", \"first\", \"first\", \"first\", \"first\", \"flight\", \"flight\", \"flight\", \"flight\", \"flight\", \"flight\", \"flow\", \"flow\", \"flow\", \"fly\", \"fly\", \"fly\", \"fly\", \"fly\", \"flydeltajet\", \"flydeltajet\", \"flydeltajet\", \"food\", \"food\", \"force\", \"force\", \"force\", \"free\", \"free\", \"free\", \"free\", \"friday\", \"friday\", \"friday\", \"friday\", \"full\", \"full\", \"full\", \"full\", \"funvalue\", \"funvalue\", \"funvalue\", \"future_corporate\", \"future_corporate\", \"future_corporate\", \"get\", \"get\", \"get\", \"get\", \"get\", \"get\", \"getaway\", \"getaway\", \"getaway\", \"getaway\", \"give\", \"give\", \"give\", \"give\", \"give\", \"give\", \"global\", \"global\", \"global\", \"global\", \"go\", \"go\", \"go\", \"go\", \"go\", \"go\", \"good\", \"good\", \"good\", \"government\", \"government\", \"government\", \"government\", \"government\", \"grehound\", \"grehound\", \"group\", \"group\", \"group\", \"group\", \"hang\", \"hang\", \"hang\", \"hang\", \"happy\", \"happy\", \"happy\", \"happy\", \"hardworking_airline\", \"hardworking_airline\", \"hardworking_airline\", \"help\", \"help\", \"help\", \"help\", \"help\", \"hope\", \"hope\", \"hope\", \"hope\", \"hope\", \"hope\", \"hostage\", \"hostage\", \"hostage\", \"hour\", \"hour\", \"hour\", \"hour\", \"hour\", \"hundred\", \"hundred\", \"hundred\", \"hundred\", \"hybrid\", \"hybrid\", \"industry\", \"industry\", \"industry\", \"industry\", \"industry\", \"inflight_service\", \"inflight_service\", \"inflight_service\", \"inflight_service\", \"information\", \"information\", \"information\", \"jamaica\", \"jamaica\", \"jamaica\", \"jblu\", \"jblu\", \"jblu\", \"jetblue\", \"jetblue\", \"jetblue\", \"jetblue\", \"jetblue\", \"jetblue\", \"jetblueairway\", \"jetblueairway\", \"jetblueairway\", \"jets_parke\", \"jets_parke\", \"jfk_awaite\", \"jfk_awaite\", \"jfk_awaite\", \"jfk_awaite\", \"job\", \"job\", \"job\", \"job\", \"job\", \"journey_home\", \"journey_home\", \"journey_home\", \"journey_home\", \"june\", \"june\", \"keep\", \"keep\", \"keep\", \"keep\", \"keep\", \"keep\", \"key\", \"key\", \"key\", \"know\", \"know\", \"know\", \"know\", \"know\", \"lady_calls\", \"lady_calls\", \"landing\", \"landing\", \"last\", \"last\", \"last\", \"last\", \"last\", \"late\", \"late\", \"late\", \"late\", \"let\", \"let\", \"let\", \"let\", \"like_want\", \"like_want\", \"livery\", \"livery\", \"location\", \"location\", \"location\", \"location\", \"male\", \"male\", \"male\", \"man\", \"man\", \"man\", \"march\", \"march\", \"march\", \"march\", \"march\", \"massive\", \"massive\", \"massive\", \"medical\", \"medical\", \"mexico\", \"mexico\", \"mexico\", \"ministry\", \"ministry\", \"ministry\", \"monarch\", \"monarch\", \"monarch_zbam\", \"monarch_zbam\", \"monarch_zbam\", \"money\", \"money\", \"money\", \"money\", \"money\", \"money\", \"move\", \"move\", \"move\", \"name\", \"name\", \"name\", \"name\", \"need\", \"need\", \"need\", \"need\", \"need\", \"need\", \"nuri\", \"nuri\", \"nuri\", \"offer\", \"offer\", \"offer\", \"offer\", \"offer\", \"ok\", \"ok\", \"ok\", \"parabletravel\", \"parabletravel\", \"parabletravel\", \"parabletravel\", \"parent\", \"parent\", \"parent\", \"parent\", \"parking\", \"parking\", \"parking\", \"part\", \"part\", \"part\", \"part\", \"passenger\", \"passenger\", \"passenger\", \"passenger\", \"passenger\", \"passenger\", \"pay\", \"pay\", \"pay\", \"pay\", \"pay\", \"pay\", \"pet\", \"pet\", \"pet\", \"petition\", \"petition\", \"petition\", \"phoenix\", \"phoenix\", \"phoenix\", \"phone\", \"phone\", \"phone\", \"phone\", \"pilot\", \"pilot\", \"pilot\", \"pilot\", \"plane\", \"plane\", \"plane\", \"plane\", \"plane\", \"plane\", \"positiveenergy\", \"positiveenergy\", \"positiveenergy\", \"proceed\", \"proceed\", \"proceed\", \"protect\", \"protect\", \"protect\", \"provide\", \"provide\", \"provide\", \"provide\", \"push\", \"push\", \"push\", \"question\", \"question\", \"racist\", \"racist\", \"racist_whitelady\", \"racist_whitelady\", \"rebook\", \"rebook\", \"rebook\", \"rebook\", \"refinery_production\", \"refinery_production\", \"refinery_production\", \"refund\", \"refund\", \"refund\", \"refund\", \"refund\", \"refund\", \"remote_desert\", \"remote_desert\", \"reposte\", \"reposte\", \"reposte\", \"responsible_the\", \"responsible_the\", \"responsible_the\", \"rule\", \"rule\", \"rule\", \"sad\", \"sad\", \"sad\", \"sad\", \"sad\", \"save\", \"save\", \"save\", \"say\", \"say\", \"say\", \"say\", \"seating_arrangement\", \"seating_arrangement\", \"seating_arrangement\", \"service\", \"service\", \"service\", \"service\", \"service\", \"share\", \"share\", \"share\", \"share\", \"sign\", \"sign\", \"sign\", \"socialmedia\", \"socialmedia\", \"source\", \"source\", \"source\", \"south_africa\", \"south_africa\", \"south_africa\", \"south_africa\", \"southw\", \"southw\", \"southw\", \"southw\", \"southw\", \"southwest\", \"southwest\", \"southwest\", \"southwest\", \"southwest\", \"speak\", \"speak\", \"speak\", \"speed\", \"speed\", \"speed\", \"spend\", \"spend\", \"spend\", \"spend\", \"stand\", \"stand\", \"stand\", \"state\", \"state\", \"state\", \"state\", \"stock\", \"stock\", \"stock\", \"stock\", \"stock\", \"stock\", \"suspend_operation\", \"suspend_operation\", \"take\", \"take\", \"take\", \"take\", \"take\", \"take\", \"tcva\", \"tcva\", \"tcvc\", \"tcvc\", \"tcvc\", \"tcx\", \"tcx\", \"tcx\", \"telephone\", \"telephone\", \"telephone\", \"temporarily\", \"temporarily\", \"thank\", \"thank\", \"thank\", \"thank\", \"thank\", \"thomas\", \"thomas\", \"thousand\", \"thousand\", \"thousand\", \"ticket\", \"ticket\", \"ticket\", \"ticket\", \"ticket\", \"ticket\", \"time\", \"time\", \"time\", \"time\", \"time\", \"time\", \"travel\", \"travel\", \"travel\", \"travel\", \"travel\", \"tulsa_international\", \"tulsa_international\", \"understandable\", \"understandable\", \"understandable\", \"understandable\", \"unite\", \"unite\", \"unite\", \"united\", \"united\", \"united\", \"united\", \"unitedairline\", \"unitedairline\", \"unitedairline\", \"unitedairline\", \"usa\", \"usa\", \"usa\", \"usa\", \"usa\", \"usa\", \"utter_bullshit\", \"utter_bullshit\", \"utter_bullshit\", \"video\", \"video\", \"video\", \"vistaquote\", \"vistaquote\", \"vistaquote\", \"vouchers_everyone\", \"vouchers_everyone\", \"vouchers_everyone\", \"want\", \"want\", \"want\", \"want\", \"warn\", \"warn\", \"warn\", \"watch_full\", \"watch_full\", \"watch_full\", \"white_women\", \"white_women\", \"white_women\", \"word\", \"word\", \"word\", \"word\", \"work\", \"work\", \"work\", \"work\", \"work\", \"worker\", \"worker\", \"worker\", \"would\", \"would\", \"would\", \"would\", \"year\", \"year\", \"year\", \"year\"]}, \"R\": 30, \"lambda.step\": 0.01, \"plot.opts\": {\"xlab\": \"PC1\", \"ylab\": \"PC2\"}, \"topic.order\": [3, 6, 5, 2, 1, 4]};\n",
       "\n",
       "function LDAvis_load_lib(url, callback){\n",
       "  var s = document.createElement('script');\n",
       "  s.src = url;\n",
       "  s.async = true;\n",
       "  s.onreadystatechange = s.onload = callback;\n",
       "  s.onerror = function(){console.warn(\"failed to load library \" + url);};\n",
       "  document.getElementsByTagName(\"head\")[0].appendChild(s);\n",
       "}\n",
       "\n",
       "if(typeof(LDAvis) !== \"undefined\"){\n",
       "   // already loaded: just create the visualization\n",
       "   !function(LDAvis){\n",
       "       new LDAvis(\"#\" + \"ldavis_el7936949811813921390984037\", ldavis_el7936949811813921390984037_data);\n",
       "   }(LDAvis);\n",
       "}else if(typeof define === \"function\" && define.amd){\n",
       "   // require.js is available: use it to load d3/LDAvis\n",
       "   require.config({paths: {d3: \"https://cdnjs.cloudflare.com/ajax/libs/d3/3.5.5/d3.min\"}});\n",
       "   require([\"d3\"], function(d3){\n",
       "      window.d3 = d3;\n",
       "      LDAvis_load_lib(\"https://cdn.rawgit.com/bmabey/pyLDAvis/files/ldavis.v1.0.0.js\", function(){\n",
       "        new LDAvis(\"#\" + \"ldavis_el7936949811813921390984037\", ldavis_el7936949811813921390984037_data);\n",
       "      });\n",
       "    });\n",
       "}else{\n",
       "    // require.js not available: dynamically load d3 & LDAvis\n",
       "    LDAvis_load_lib(\"https://cdnjs.cloudflare.com/ajax/libs/d3/3.5.5/d3.min.js\", function(){\n",
       "         LDAvis_load_lib(\"https://cdn.rawgit.com/bmabey/pyLDAvis/files/ldavis.v1.0.0.js\", function(){\n",
       "                 new LDAvis(\"#\" + \"ldavis_el7936949811813921390984037\", ldavis_el7936949811813921390984037_data);\n",
       "            })\n",
       "         });\n",
       "}\n",
       "</script>"
      ],
      "text/plain": [
       "PreparedData(topic_coordinates=              x         y  topics  cluster       Freq\n",
       "topic                                                \n",
       "2      0.221331 -0.004989       1        1  24.815140\n",
       "5     -0.038453 -0.041558       2        1  22.619328\n",
       "4     -0.066505 -0.044742       3        1  16.632954\n",
       "1     -0.039226  0.106306       4        1  14.364415\n",
       "0     -0.041365 -0.029261       5        1  12.137823\n",
       "3     -0.035782  0.014244       6        1   9.430340, topic_info=    Category        Freq       Term       Total  loglift  logprob\n",
       "304  Default  135.000000      spend  135.000000  30.0000  30.0000\n",
       "300  Default  136.000000       cash  136.000000  29.0000  29.0000\n",
       "302  Default  132.000000      group  132.000000  28.0000  28.0000\n",
       "423  Default  130.000000      share  130.000000  27.0000  27.0000\n",
       "422  Default  129.000000       flow  129.000000  26.0000  26.0000\n",
       "..       ...         ...        ...         ...      ...      ...\n",
       "20    Topic6    3.250156     flight  135.652420  -1.3702  -5.7727\n",
       "231   Topic6    2.727486     change   31.115871  -0.0731  -5.9480\n",
       "28    Topic6    2.483714      money   16.273556   0.4815  -6.0416\n",
       "233   Topic6    2.385046        fee   14.369825   0.5653  -6.0822\n",
       "23    Topic6    2.372135  southwest   47.065838  -0.6265  -6.0876\n",
       "\n",
       "[322 rows x 6 columns], token_table=      Topic      Freq    Term\n",
       "term                         \n",
       "670       1  0.503141     aal\n",
       "670       2  0.201256     aal\n",
       "670       3  0.100628     aal\n",
       "1379      1  0.112823  airbus\n",
       "1379      2  0.676935  airbus\n",
       "...     ...       ...     ...\n",
       "362       6  0.044447   would\n",
       "24        1  0.057446    year\n",
       "24        2  0.574465    year\n",
       "24        3  0.229786    year\n",
       "24        5  0.114893    year\n",
       "\n",
       "[876 rows x 3 columns], R=30, lambda_step=0.01, plot_opts={'xlab': 'PC1', 'ylab': 'PC2'}, topic_order=[3, 6, 5, 2, 1, 4])"
      ]
     },
     "execution_count": 101,
     "metadata": {},
     "output_type": "execute_result"
    }
   ],
   "source": [
    "import pyLDAvis.gensim\n",
    "import pickle \n",
    "import pyLDAvis\n",
    "\n",
    "# Visualize the topics\n",
    "pyLDAvis.enable_notebook()\n",
    "\n",
    "LDAvis_prepared = pyLDAvis.gensim.prepare(lda_model, corpus, id2word)\n",
    "\n",
    "LDAvis_prepared"
   ]
  },
  {
   "cell_type": "code",
   "execution_count": null,
   "metadata": {},
   "outputs": [],
   "source": []
  }
 ],
 "metadata": {
  "kernelspec": {
   "display_name": "Python 3",
   "language": "python",
   "name": "python3"
  },
  "language_info": {
   "codemirror_mode": {
    "name": "ipython",
    "version": 3
   },
   "file_extension": ".py",
   "mimetype": "text/x-python",
   "name": "python",
   "nbconvert_exporter": "python",
   "pygments_lexer": "ipython3",
   "version": "3.7.4"
  },
  "toc": {
   "base_numbering": 1,
   "nav_menu": {},
   "number_sections": true,
   "sideBar": true,
   "skip_h1_title": false,
   "title_cell": "Table of Contents",
   "title_sidebar": "Contents",
   "toc_cell": false,
   "toc_position": {},
   "toc_section_display": true,
   "toc_window_display": false
  },
  "varInspector": {
   "cols": {
    "lenName": 16,
    "lenType": 16,
    "lenVar": 40
   },
   "kernels_config": {
    "python": {
     "delete_cmd_postfix": "",
     "delete_cmd_prefix": "del ",
     "library": "var_list.py",
     "varRefreshCmd": "print(var_dic_list())"
    },
    "r": {
     "delete_cmd_postfix": ") ",
     "delete_cmd_prefix": "rm(",
     "library": "var_list.r",
     "varRefreshCmd": "cat(var_dic_list()) "
    }
   },
   "types_to_exclude": [
    "module",
    "function",
    "builtin_function_or_method",
    "instance",
    "_Feature"
   ],
   "window_display": false
  }
 },
 "nbformat": 4,
 "nbformat_minor": 2
}
